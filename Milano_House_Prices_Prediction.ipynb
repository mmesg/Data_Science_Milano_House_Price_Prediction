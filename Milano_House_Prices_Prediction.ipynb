{
 "cells": [
  {
   "cell_type": "markdown",
   "id": "59499d15-4a43-4449-941c-9868a6448cb6",
   "metadata": {},
   "source": [
    "## House prices prediction in the city of Milano, Italy"
   ]
  },
  {
   "cell_type": "markdown",
   "id": "1fa456ce-fdc7-4cd3-bbf3-a474d001c217",
   "metadata": {},
   "source": [
    "## 1. Introduction to the project and sources\n",
    "\n",
    "This project explores the application of linear regression to predict house prices in the Italian city of Milan based on various features commonly used in real estate analysis. The Linear Regression Model comprises essential property attributes such as the number of rooms, square meters, bathrooms, price, and neighborhood, offering a comprehensive view of the factors influencing property values.\n",
    "\n",
    "To ensure the robustness and accuracy of the model, extensive data cleaning and preprocessing steps were carried out. These steps include inspecting and refining key columns, adding a derived feature called \"price per square meter,\" and removing outliers using both business logic and statistical methods. Additionally, categorical data like \"neighborhood\" was transformed into dummy variables using one-hot encoding.\n",
    "\n",
    "After successfully cleaning all the required variables, the second part of the project focuses on building the linear regression model.\n",
    "\n",
    "Finally, the model is tested with a function that allows users to input self-defined values (e.g., \"neighborhood\" and \"number of rooms\") and receive the predicted price as output.\n",
    "\n",
    "This project provides a structured approach to handling messy datasets and highlights how data science can support the real estate industry.\n",
    "\n",
    "**Sources**\n",
    "\n",
    "1) The dataset used in this project was extracted by Tommaso Ramella through web scraping from a popular Italian real estate website. His dataset provides valuable insights into the housing market in Milan and has been shared on Kaggle for use by other data enthusiasts. The dataset can be accessed here: https://www.kaggle.com/datasets/tommasoramella/milano-housing-price\n",
    "\n",
    "2) This project is inspired to the techniques shown by the project:\n",
    "\"Machine Learning & Data Science Project\" by \"Codebasics\" (https://www.youtube.com/@codebasics).\n",
    "I created a case study and applied the techniques on a different dataset."
   ]
  },
  {
   "cell_type": "markdown",
   "id": "f9c68e78-6d21-45ea-9565-9695c7557684",
   "metadata": {},
   "source": [
    "## 2. Case Study\n",
    "\n",
    "A real estate agency operating in Milan wants to optimize its pricing strategies. They aim to provide accurate price estimates to their clients (both sellers and buyers) and remain competitive in the market. They hired me as a data scientist to build a model that predicts house prices based on property features. This model will also help their agents provide data-driven recommendations to clients during negotiations."
   ]
  },
  {
   "cell_type": "markdown",
   "id": "82e4b2d1-e7b3-4f47-992a-79708b2ca061",
   "metadata": {},
   "source": [
    "## 3. Introduction to the Data\n",
    "\n",
    "The following data dictionary provides detailed information about the variables in the dataset, including their names, types, and descriptions. The original dataset contains many columns. For better readability, the following dictionary highlights the most relevant features for the project:"
   ]
  },
  {
   "cell_type": "markdown",
   "id": "431c35e1-fc61-43eb-86a4-e9b368503e27",
   "metadata": {},
   "source": [
    "<table style=\"text-align: left; margin-left: 0;\">\n",
    "  <tr>\n",
    "    <th>Column Name</th>\n",
    "    <th>Data Type</th>\n",
    "    <th>Description</th>\n",
    "  </tr>\n",
    "  <tr>\n",
    "    <td>index</td>\n",
    "    <td>int</td>\n",
    "    <td>Unique ID for each record</td>\n",
    "  </tr>\n",
    "  <tr>\n",
    "    <td>rooms</td>\n",
    "    <td>int</td>\n",
    "    <td>Number of rooms</td>\n",
    "  </tr>\n",
    "  <tr>\n",
    "    <td>m2</td>\n",
    "    <td>float</td>\n",
    "    <td>Area in square meters</td>\n",
    "  </tr>\n",
    "  <tr>\n",
    "    <td>bathrooms</td>\n",
    "    <td>string</td>\n",
    "    <td>Number of bathrooms</td>\n",
    "  </tr>\n",
    "  <tr>\n",
    "    <td>price</td>\n",
    "    <td>float</td>\n",
    "    <td>Price of the property in euros</td>\n",
    "  </tr>\n",
    "  <tr>\n",
    "    <td>neighborhood</td>\n",
    "    <td>string</td>\n",
    "    <td>Neighborhood or area of the property</td>\n",
    "  </tr>\n",
    "</table>\n"
   ]
  },
  {
   "cell_type": "markdown",
   "id": "50114246-ee88-4833-aa75-e76aa7dc1976",
   "metadata": {},
   "source": [
    "## 4. Import of the necessary libraries for the project\n",
    "The following cell shows all the libraries used for this project:"
   ]
  },
  {
   "cell_type": "code",
   "execution_count": 1,
   "id": "6c5d32dc-01de-430d-971d-5deb64f176b0",
   "metadata": {},
   "outputs": [],
   "source": [
    "import pandas as pd\n",
    "import numpy as np\n",
    "from matplotlib import pyplot as plt\n",
    "%matplotlib inline\n",
    "import matplotlib \n",
    "matplotlib.rcParams[\"figure.figsize\"] = (20,10)\n",
    "from sklearn.linear_model    import LinearRegression\n",
    "from sklearn.model_selection import train_test_split, ShuffleSplit, cross_val_score"
   ]
  },
  {
   "cell_type": "markdown",
   "id": "315cbcc5-00bd-4a61-853c-97fa47b1d999",
   "metadata": {},
   "source": [
    "## 5. Importing the data "
   ]
  },
  {
   "cell_type": "markdown",
   "id": "d91f9904-740a-417e-9873-28f2088ba3cd",
   "metadata": {},
   "source": [
    "Let's take a look at the dataset. As explained in Chapter 3, 'Introduction to the Data', the dataset has many more columns than the ones displayed in the data dictionary:"
   ]
  },
  {
   "cell_type": "code",
   "execution_count": 2,
   "id": "aca793a8-fff4-47f6-be7b-14a4dedc6762",
   "metadata": {
    "scrolled": true
   },
   "outputs": [
    {
     "data": {
      "text/html": [
       "<div>\n",
       "<style scoped>\n",
       "    .dataframe tbody tr th:only-of-type {\n",
       "        vertical-align: middle;\n",
       "    }\n",
       "\n",
       "    .dataframe tbody tr th {\n",
       "        vertical-align: top;\n",
       "    }\n",
       "\n",
       "    .dataframe thead th {\n",
       "        text-align: right;\n",
       "    }\n",
       "</style>\n",
       "<table border=\"1\" class=\"dataframe\">\n",
       "  <thead>\n",
       "    <tr style=\"text-align: right;\">\n",
       "      <th></th>\n",
       "      <th>index</th>\n",
       "      <th>rooms</th>\n",
       "      <th>m2</th>\n",
       "      <th>bathrooms</th>\n",
       "      <th>floor</th>\n",
       "      <th>condominium_expenses</th>\n",
       "      <th>date</th>\n",
       "      <th>contract</th>\n",
       "      <th>typology</th>\n",
       "      <th>total_floors</th>\n",
       "      <th>...</th>\n",
       "      <th>energy_certification</th>\n",
       "      <th>co2_emissions</th>\n",
       "      <th>elevator</th>\n",
       "      <th>floor_level</th>\n",
       "      <th>heating_centralized</th>\n",
       "      <th>heating_radiator</th>\n",
       "      <th>heating_gas</th>\n",
       "      <th>air_conditiong_centralized</th>\n",
       "      <th>air_conditioning_heat</th>\n",
       "      <th>renewable_energy_performance_index_KWh/m2</th>\n",
       "    </tr>\n",
       "  </thead>\n",
       "  <tbody>\n",
       "    <tr>\n",
       "      <th>0</th>\n",
       "      <td>0</td>\n",
       "      <td>3</td>\n",
       "      <td>140.0</td>\n",
       "      <td>2</td>\n",
       "      <td>4</td>\n",
       "      <td>535</td>\n",
       "      <td>08/02/2023</td>\n",
       "      <td>sale</td>\n",
       "      <td>apartment | entire property | stately property...</td>\n",
       "      <td>6 floors</td>\n",
       "      <td>...</td>\n",
       "      <td>NaN</td>\n",
       "      <td>NaN</td>\n",
       "      <td>1</td>\n",
       "      <td>4</td>\n",
       "      <td>centralized</td>\n",
       "      <td>to radiators</td>\n",
       "      <td>methane powered</td>\n",
       "      <td>autonomous</td>\n",
       "      <td>cold/hot</td>\n",
       "      <td>NaN</td>\n",
       "    </tr>\n",
       "    <tr>\n",
       "      <th>1</th>\n",
       "      <td>0</td>\n",
       "      <td>4</td>\n",
       "      <td>121.0</td>\n",
       "      <td>2</td>\n",
       "      <td>3</td>\n",
       "      <td>200</td>\n",
       "      <td>17/02/2023</td>\n",
       "      <td>sale</td>\n",
       "      <td>apartment | entire property | stately property...</td>\n",
       "      <td>7 floors</td>\n",
       "      <td>...</td>\n",
       "      <td>NaN</td>\n",
       "      <td>NaN</td>\n",
       "      <td>1</td>\n",
       "      <td>3</td>\n",
       "      <td>autonomous</td>\n",
       "      <td>to radiators</td>\n",
       "      <td>gas powered</td>\n",
       "      <td>system preparation</td>\n",
       "      <td>NaN</td>\n",
       "      <td>NaN</td>\n",
       "    </tr>\n",
       "  </tbody>\n",
       "</table>\n",
       "<p>2 rows × 34 columns</p>\n",
       "</div>"
      ],
      "text/plain": [
       "   index rooms     m2 bathrooms floor condominium_expenses        date  \\\n",
       "0      0     3  140.0         2     4                  535  08/02/2023   \n",
       "1      0     4  121.0         2     3                  200  17/02/2023   \n",
       "\n",
       "  contract                                           typology total_floors  \\\n",
       "0     sale  apartment | entire property | stately property...     6 floors   \n",
       "1     sale  apartment | entire property | stately property...     7 floors   \n",
       "\n",
       "   ... energy_certification co2_emissions  elevator  floor_level  \\\n",
       "0  ...                  NaN           NaN         1            4   \n",
       "1  ...                  NaN           NaN         1            3   \n",
       "\n",
       "  heating_centralized heating_radiator      heating_gas  \\\n",
       "0         centralized     to radiators  methane powered   \n",
       "1          autonomous     to radiators      gas powered   \n",
       "\n",
       "  air_conditiong_centralized air_conditioning_heat  \\\n",
       "0                 autonomous              cold/hot   \n",
       "1         system preparation                   NaN   \n",
       "\n",
       "  renewable_energy_performance_index_KWh/m2  \n",
       "0                                       NaN  \n",
       "1                                       NaN  \n",
       "\n",
       "[2 rows x 34 columns]"
      ]
     },
     "execution_count": 2,
     "metadata": {},
     "output_type": "execute_result"
    }
   ],
   "source": [
    "df = pd.read_excel(\"milano_housing_02_2_23.xlsx\")\n",
    "df.head(2)"
   ]
  },
  {
   "cell_type": "markdown",
   "id": "5ab188bc-2253-4190-be4a-af1df4c9c62f",
   "metadata": {},
   "source": [
    "For this project, the unnecessary columns will be dropped from the DataFrame in  the next step of the data cleaning process."
   ]
  },
  {
   "cell_type": "markdown",
   "id": "451d4072-2076-4549-80ca-760e8b6a2c15",
   "metadata": {},
   "source": [
    "## 6. Data Cleaning\n",
    "\n",
    "Chapter 6 presents the complete data cleaning process, including the removal of irrelevant columns and the inspection of the remaining ones. Each column has a dedicated subchapter that discusses its specific challenges and the applied data cleaning methods.\n",
    "\n",
    "Additionally, subchapter 6.6. introduces the creation of a new feature by combining existing ones — an approach known as feature engineering."
   ]
  },
  {
   "cell_type": "markdown",
   "id": "eb603148-7aae-456b-a284-84331298da9e",
   "metadata": {},
   "source": [
    "### 6.1. Dropping irrelevant columns \n",
    "\n",
    "\n",
    "In the next line of code, I'll keep only the features required for the project.\n",
    "First, I create a new DataFrame df1, which is an identical copy of the previous DataFrame (df); then, I apply the first \"data cleaning\" step change on this new DataFrame (i.d. keeping only the necessary columns).\n",
    "\n",
    "Throughout the entire project, I will follow this best practice to ensure version control for each change. This approach will ensure:\n",
    "\n",
    "1) A structured code;\n",
    "2) That the original data remains unchanged;\n",
    "4) That the changes are clearly trackable."
   ]
  },
  {
   "cell_type": "code",
   "execution_count": 3,
   "id": "3b92edd7-566c-4162-ad6a-9d153ef29d4d",
   "metadata": {},
   "outputs": [
    {
     "data": {
      "text/plain": [
       "(2130, 5)"
      ]
     },
     "execution_count": 3,
     "metadata": {},
     "output_type": "execute_result"
    }
   ],
   "source": [
    "df1 = df.copy()\n",
    "df1 = df1[['rooms', 'm2', 'bathrooms', 'price', 'neighborhood']]\n",
    "\n",
    "# alternative code: df1= df[['rooms', 'm2', 'bathrooms', 'price', 'neighborhood']].copy()\n",
    "#df1.head(3)\n",
    "df1.shape"
   ]
  },
  {
   "cell_type": "markdown",
   "id": "bf376471-33b0-43c9-8861-aee2a24f6192",
   "metadata": {},
   "source": [
    "### 6.2. Deleting NaN values from the dataframe"
   ]
  },
  {
   "cell_type": "markdown",
   "id": "d1ae22e1-8eda-4161-83fa-26efe297b5ec",
   "metadata": {},
   "source": [
    "The next step involves deleting all the empty cells (NaN values) from each column in the dataframe:"
   ]
  },
  {
   "cell_type": "code",
   "execution_count": 4,
   "id": "7bd2aff0-a786-4e22-98ba-c54c944d599c",
   "metadata": {},
   "outputs": [
    {
     "name": "stdout",
     "output_type": "stream",
     "text": [
      "<class 'pandas.core.frame.DataFrame'>\n",
      "Index: 1979 entries, 0 to 2129\n",
      "Data columns (total 5 columns):\n",
      " #   Column        Non-Null Count  Dtype  \n",
      "---  ------        --------------  -----  \n",
      " 0   rooms         1979 non-null   object \n",
      " 1   m2            1979 non-null   float64\n",
      " 2   bathrooms     1979 non-null   object \n",
      " 3   price         1979 non-null   float64\n",
      " 4   neighborhood  1979 non-null   object \n",
      "dtypes: float64(2), object(3)\n",
      "memory usage: 92.8+ KB\n"
     ]
    },
    {
     "data": {
      "text/plain": [
       "(1979, 5)"
      ]
     },
     "execution_count": 4,
     "metadata": {},
     "output_type": "execute_result"
    }
   ],
   "source": [
    "df2 = df1.dropna()    \n",
    "#df2.isnull().sum()\n",
    "df2.info()\n",
    "df2.shape"
   ]
  },
  {
   "cell_type": "markdown",
   "id": "1fdd5eb5-6245-4f7b-9588-665224b69d87",
   "metadata": {},
   "source": [
    "### 6.3. \"rooms\" column"
   ]
  },
  {
   "cell_type": "markdown",
   "id": "e8ff2c36-6ee5-41e5-b7ce-34e0938dd0ba",
   "metadata": {},
   "source": [
    "In this part I focused on cleaning the column \"rooms\". This column shows the number of rooms in the property. Let's have a first look at the column:"
   ]
  },
  {
   "cell_type": "code",
   "execution_count": 5,
   "id": "07efad10-9e34-4519-bd3d-95438202ed65",
   "metadata": {},
   "outputs": [
    {
     "data": {
      "text/plain": [
       "array(['3', '4', '2', '5', '1', '5+', '110m²'], dtype=object)"
      ]
     },
     "execution_count": 5,
     "metadata": {},
     "output_type": "execute_result"
    }
   ],
   "source": [
    "df2.rooms.unique()"
   ]
  },
  {
   "cell_type": "markdown",
   "id": "816650c3-3b21-4e36-87f9-96f2dcb2dd6e",
   "metadata": {},
   "source": [
    "One value refers to the size of the house rather than the number of rooms (110 m²), and another value contains '5+', which is too imprecise since there is no upper limit. Additionally, the datatype is string instead of integer. To clean this column, I will apply the following changes:\n",
    "\n",
    "1) Remove the values mentioned above;\n",
    "2) Convert the 'rooms' column from string to integer."
   ]
  },
  {
   "cell_type": "code",
   "execution_count": 6,
   "id": "6c0dd58c-fe40-4b08-bb17-2154867ddb69",
   "metadata": {},
   "outputs": [],
   "source": [
    "# Create a new dataframe df3 to preserve the original dataframe\n",
    "df3 = df2.copy()\n",
    "\n",
    "# Drop rows where 'rooms' contains \"m²\" or \"5+\" values\n",
    "df3 = df3[~df3['rooms'].astype(str).str.contains(r'm²|5\\+', na=False)]\n",
    "df4 = df3.copy()\n",
    "df4['rooms'] = df4['rooms'].astype(int).copy()"
   ]
  },
  {
   "cell_type": "markdown",
   "id": "3472653d-0313-4653-9b5b-8202fc00c2fd",
   "metadata": {},
   "source": [
    "Now let's take a look at the unique values after the changes:"
   ]
  },
  {
   "cell_type": "code",
   "execution_count": 7,
   "id": "e4cbfbf0-67c7-4aad-a668-2bbea8ff49b6",
   "metadata": {},
   "outputs": [
    {
     "data": {
      "text/plain": [
       "array([3, 4, 2, 5, 1])"
      ]
     },
     "execution_count": 7,
     "metadata": {},
     "output_type": "execute_result"
    }
   ],
   "source": [
    "df4.rooms.unique()"
   ]
  },
  {
   "cell_type": "markdown",
   "id": "19c472bb-9169-4e3b-bff6-4b72bfae2e97",
   "metadata": {},
   "source": [
    "The undesired values no longer appear, and the values are now integers instead of strings (they are no longer enclosed in quotation marks). The 'rooms' column is now fully cleaned, and we can proceed with the next column."
   ]
  },
  {
   "cell_type": "markdown",
   "id": "7c28113d-194e-4c7d-950b-57eec6fca84b",
   "metadata": {},
   "source": [
    "### 6.4. \"m2\" (square meters) column"
   ]
  },
  {
   "cell_type": "markdown",
   "id": "d175ef02-ac04-4ef3-b68b-ace752c87e1d",
   "metadata": {},
   "source": [
    "Let's check the data type of the 'm2' column:"
   ]
  },
  {
   "cell_type": "code",
   "execution_count": 8,
   "id": "8e4ca68e-22d4-4fb2-a93d-8206d0b323b2",
   "metadata": {},
   "outputs": [
    {
     "name": "stdout",
     "output_type": "stream",
     "text": [
      "float64\n"
     ]
    }
   ],
   "source": [
    "print(df4['m2'].dtype)"
   ]
  },
  {
   "cell_type": "markdown",
   "id": "4097ba50-9aa1-4ea6-8942-85aaa16e47b2",
   "metadata": {},
   "source": [
    "I want to convert this column's data type to integer:"
   ]
  },
  {
   "cell_type": "code",
   "execution_count": 9,
   "id": "b9463273-69ca-4121-9d30-1d27a29d391b",
   "metadata": {},
   "outputs": [],
   "source": [
    "df5 = df4.copy()\n",
    "df5['m2'] = df5['m2'].astype(int)"
   ]
  },
  {
   "cell_type": "markdown",
   "id": "03e5ca77-eb52-4240-89e1-dfdbeaf987f6",
   "metadata": {},
   "source": [
    "Now, I want to view the unique values in this column to check for any unusual values, like previously done for the column \"rooms\":"
   ]
  },
  {
   "cell_type": "code",
   "execution_count": 10,
   "id": "6348193e-c2df-4047-832c-6cffd5d77e47",
   "metadata": {},
   "outputs": [
    {
     "data": {
      "text/plain": [
       "array([    140,     121,      55,      60,     220,     136,     150,\n",
       "            73,     120,     100,     133,     145,     105,     110,\n",
       "           122,     183,     175,     130,     273,      40,      87,\n",
       "           170,     160,     125,     180,      95,      70,      45,\n",
       "           250,      75,     240,      50,      61,     185,     115,\n",
       "            90,     174,      93,     103,      80,     109,     195,\n",
       "           173,     104,     158,     124,      58,     161,     200,\n",
       "            89,      66,     157,     190,      25,      91,     102,\n",
       "           181,      49,      85,     152,     114,     165,      18,\n",
       "            81,     141,      14,     226,     212,     135,      97,\n",
       "            98,     242,      47,      68,     162,     235,     131,\n",
       "            77,      48,     224,     205,     126,      71,     151,\n",
       "            64,     350,      67,     188,     326,      65,      74,\n",
       "            79,      78,     127,      69,      53,      84,      96,\n",
       "            36,     108,      83,      82,     148,     111,      63,\n",
       "           134,     144,      32,     230,      99,     116,     142,\n",
       "           182,      46,      76,      56,     147,     119,     101,\n",
       "            57,      54,     207,      41,     118,     191,      72,\n",
       "           245,     156,     137,     210,     117,     237,     172,\n",
       "            52,      59,      35,     107,      34,     228,     192,\n",
       "           216,     128,      88,      62,      39,      44,     300,\n",
       "           199,     132,      42,     176,     159,     208,     260,\n",
       "           206,     196,      86,     146,     166,     129,     187,\n",
       "           155,     138,     203,     277,     123,      51,      27,\n",
       "           143,      92,     106,     163,      38,     139,     304,\n",
       "           154, 1250000,     213,     276,     278,     153,     246,\n",
       "           359,     349,     261,      94,     223,     428,     149,\n",
       "           283,     177,     282,     164,     201,     204,     248,\n",
       "           225,     167,     252,     257,     247,     215,     169,\n",
       "           113,     112,     315,     168,     255,     259,     217,\n",
       "           371,     360,     320,     346,      43,     178,     253,\n",
       "            30,     179,     171,     309,     344,      28,      37])"
      ]
     },
     "execution_count": 10,
     "metadata": {},
     "output_type": "execute_result"
    }
   ],
   "source": [
    "df5[\"m2\"].unique()"
   ]
  },
  {
   "cell_type": "markdown",
   "id": "d4762942-26dd-4421-9f2f-fced1408e7ff",
   "metadata": {},
   "source": [
    "The value \"1250000'is unusually big, especially given that the other values are much smaller."
   ]
  },
  {
   "cell_type": "code",
   "execution_count": 11,
   "id": "a36ed88b-9383-4d5d-a821-7d07e96a92c3",
   "metadata": {},
   "outputs": [
    {
     "data": {
      "text/plain": [
       "m2\n",
       "14         2\n",
       "18         1\n",
       "25         4\n",
       "27         3\n",
       "28         2\n",
       "          ..\n",
       "359        1\n",
       "360        1\n",
       "371        1\n",
       "428        1\n",
       "1250000    1\n",
       "Name: m2, Length: 224, dtype: int64"
      ]
     },
     "execution_count": 11,
     "metadata": {},
     "output_type": "execute_result"
    }
   ],
   "source": [
    "df5.groupby(\"m2\")[\"m2\"].agg(\"count\")"
   ]
  },
  {
   "cell_type": "markdown",
   "id": "366787f9-de79-448c-8302-d0cb0f22bab7",
   "metadata": {},
   "source": [
    "Since it stands out as potential outliers or mistake in the dataset, dropping it is a reasonable decision:"
   ]
  },
  {
   "cell_type": "code",
   "id": "3aec935a-a5f8-45e3-ba11-a70928bc2c6b",
   "metadata": {},
   "source": [
    "df5 = df5[~df5['m2'].isin([1250000])]"
   ]
  },
  {
   "cell_type": "markdown",
   "id": "a89b6789-da97-4c14-a7da-134c12951c33",
   "metadata": {},
   "source": [
    "### 6.5. \"bathrooms\" column"
   ]
  },
  {
   "cell_type": "markdown",
   "id": "819a6c1f-b10e-4bb3-a5d2-2d502fb63f7f",
   "metadata": {},
   "source": [
    "Now, I want to view the unique values of the \"bathrooms\" feature to get an initial overview of the numbers present in this column:"
   ]
  },
  {
   "cell_type": "code",
   "execution_count": 12,
   "id": "4423625c-a882-48ef-a586-11dc0be99450",
   "metadata": {},
   "outputs": [
    {
     "data": {
      "text/plain": [
       "array(['2', '1', '3', '3+', '4', '6', 'S'], dtype=object)"
      ]
     },
     "execution_count": 12,
     "metadata": {},
     "output_type": "execute_result"
    }
   ],
   "source": [
    "df5[\"bathrooms\"].unique()"
   ]
  },
  {
   "cell_type": "markdown",
   "id": "1c58d24b-3bd7-4cd0-b141-449d5112d9bf",
   "metadata": {},
   "source": [
    "As seen in the previous output, the data type is 'string'. Moreover, there are unclean values like \"3+\" and \"S\". Let's proceed with solving the two issues:"
   ]
  },
  {
   "cell_type": "code",
   "execution_count": 13,
   "id": "cf488b56-c8d9-41fd-9a4c-971707caadf9",
   "metadata": {},
   "outputs": [],
   "source": [
    "df6 = df5.copy()"
   ]
  },
  {
   "cell_type": "code",
   "execution_count": 14,
   "id": "b5911a91-4109-4dff-9313-0449f89d406a",
   "metadata": {},
   "outputs": [],
   "source": [
    "df6 = df6[~df6['bathrooms'].isin(['3+', 'S'])]\n",
    "\n",
    "df6['bathrooms'] = df6['bathrooms'].astype(int)"
   ]
  },
  {
   "cell_type": "code",
   "execution_count": 15,
   "id": "15077489-6e01-4b7d-b420-03be01ea0f3b",
   "metadata": {},
   "outputs": [
    {
     "data": {
      "text/plain": [
       "array([2, 1, 3, 4, 6])"
      ]
     },
     "execution_count": 15,
     "metadata": {},
     "output_type": "execute_result"
    }
   ],
   "source": [
    "df6[\"bathrooms\"].unique()"
   ]
  },
  {
   "cell_type": "markdown",
   "id": "c2b55298-22f4-4867-b614-44cda85fb2c6",
   "metadata": {},
   "source": [
    "### 6.6. \"price\" column"
   ]
  },
  {
   "cell_type": "markdown",
   "id": "c579e1fd-31fb-423d-bce4-ac2593859981",
   "metadata": {},
   "source": [
    "Let's take a look at the data type of the column \"price\":"
   ]
  },
  {
   "cell_type": "code",
   "execution_count": 16,
   "id": "80ddcd1e-22aa-487c-bf3e-db86423d6514",
   "metadata": {},
   "outputs": [
    {
     "name": "stdout",
     "output_type": "stream",
     "text": [
      "float64\n"
     ]
    }
   ],
   "source": [
    "print(df6['price'].dtype)"
   ]
  },
  {
   "cell_type": "code",
   "execution_count": 17,
   "id": "8cbcabb5-5798-4c04-a4e8-c0827178e197",
   "metadata": {},
   "outputs": [
    {
     "data": {
      "text/plain": [
       "array([ 880000.,  649000.,  300000.,  250000., 2250000.,  920000.,\n",
       "        950000.,  445000.,  670000.,  333000.,  660000.,  940000.,\n",
       "        449000.,  858000.,  465000., 1310000., 1300000.,  595000.,\n",
       "        795000.,  420000., 1420000., 1650000.,  189000.,  355000.,\n",
       "        620000.,  890000.,  699000.,  960000.,  640000.,  680000.,\n",
       "        370000.,  285000.,  359000.,  385000.,  380000.,  580000.,\n",
       "        175000.,  245000.,  730000.,  510000., 1980000.,  915000.,\n",
       "        219000.,  990000.,  375000., 1180000.,  265000.,  184000.,\n",
       "       1030000.,  360000.,  348000.,  575000.,  550000.,  590000.,\n",
       "       3000000.,  390000.,  525000., 1120000.,  368000.,  495000.,\n",
       "       1190000.,  329000.,  210000., 1290000.,  485000.,  235000.,\n",
       "        520000.,  408000.,  980000.,  698000., 1570000.,  750000.,\n",
       "        328000.,  325000., 1360000.,  870000.,  395000.,  429000.,\n",
       "        430000.,  615000., 1250000., 1240000.,  319000.,  270000.,\n",
       "        599000.,  160000., 1090000.,  389000.,  428000.,  470000.,\n",
       "        349000., 1195000., 1280000.,  849000., 1140000.,  135000.,\n",
       "        305000., 1380000.,  155000., 2200000.,  450000.,  610000.,\n",
       "       1295000., 1640000.,  720000.,  995000., 1150000.,  412000.,\n",
       "       1495000.,  275000.,  545000.,  340000., 1388000.,  205000.,\n",
       "        290000.,  440000.,  240000., 1850000., 1800000.,  500000.,\n",
       "        365000.,  800000., 1345000., 1460000.,  269000.,  215000.,\n",
       "        249000.,  790000., 1750000., 1590000.,  565000.,  361000.,\n",
       "        840000., 1025000.,  419000.,  539000.,  850000.,  190000.,\n",
       "        695000.,  279000.,  549000.,  410000.,  530000.,  845000.,\n",
       "        345000., 1097000.,  560000.,  335000.,  415000.,  812000.,\n",
       "        494158.,  295000.,  310000.,  159000.,  480000.,  284000.,\n",
       "        524000., 2450000., 1060000.,  780000.,  576000.,  130000.,\n",
       "       1450000.,  488000., 1400000., 1830000.,  185000.,  367000.,\n",
       "        825000.,  379000.,  910000.,  515000.,  369000.,  165000.,\n",
       "        935000.,  255000.,  799000.,  475000.,  198000.,  749000.,\n",
       "        629000.,  498000.,  199000.,  770000.,  439000.,  785000.,\n",
       "       1340000.,  970000., 1100000.,  747000.,  579000., 1413000.,\n",
       "        318000.,  435000.,  460000.,  204000.,  830000.,  518000.,\n",
       "        260000.,  499000.,  948000.,  330000.,  650000., 1130000.,\n",
       "        645000., 1550000., 1260000., 1425000., 1285000.,  930000.,\n",
       "        490000., 1789000., 1950000., 2769000.,  608000.,  527000.,\n",
       "        887000.,  220000.,  458000.,  315000.,  690000.,  573000.,\n",
       "        399000.,  209000.,  334000.,  540000., 1350000., 1220000.,\n",
       "        600000., 2000000., 1230000., 2075000.,  480400.,  979000.,\n",
       "        987000.,  585000.,  994000.,  280000., 1717000.,  700000.,\n",
       "       1680000.,  899000.,  719000.,  548000.,  663000., 1995000.,\n",
       "        338000.,  843000.,  632000., 1224000.,  169000.,  648000.,\n",
       "       1080000.,  937000., 1192000., 1214000.,  558000.,  398000.,\n",
       "        320000.,  735000.,  769000.,  570000.,  258000.,  289000.,\n",
       "        299000.,  129000.,  397000.,  297000.,  898000.,  136000.,\n",
       "        628000.,  689000.,  655000.,  425000.,  568000.,  725000.,\n",
       "       1000000.,  737000.,  350000.,  625000.,  261000.,  350500.,\n",
       "        745000.,  314000.,  230000., 1200000.,  151800.,  845020.,\n",
       "        459800.,  202000., 1035000.,  635000.,  218000., 2875000.,\n",
       "        810000.,  178000.,  835000., 1540000., 1485000.,  593000.,\n",
       "        820000.,  478000.,  293000.,  149000.,  482500.,  630000.,\n",
       "        170000.,  238000.,  167000., 1336000., 1050000.,  229000.,\n",
       "        150000.,  727000.,   99000.,  805000.,  358000.,  533000.,\n",
       "        740000.,  237000., 1902000.,  598000.,  675000.,  246000.,\n",
       "        405000.,  528000., 3350000.,  581000.,  505000.,  860000.,\n",
       "        409000.,  489000.,  479000., 1500000.,  469000.,   98000.,\n",
       "       1076000., 1422000., 1960000., 2130000., 1470000.,  243600.,\n",
       "        487000.,  188600., 1068000.,  997000.,  225000., 3900000.,\n",
       "        234000.,  443000., 1178000.,  895000.,  765000.,  484000.,\n",
       "        455000., 1510000., 1070000., 4249000., 3998000.,  464000.,\n",
       "       1700000.,  900000.,  710000.,  824000.,  298000.,  537000.,\n",
       "        664000., 1014300.,  179000., 1720000., 1293750.,  441551.,\n",
       "        411000., 1583000.,  339000.,  254000.,  435600., 1480000.,\n",
       "       4980000.,  866000.,  855000.,  400000.,  337000.,  842300.,\n",
       "       1055000., 1242000.,  463243., 1449000.,  871000.,  125000.,\n",
       "        507000., 1040000.,  357291., 1079000., 1635300., 1110000.,\n",
       "        923000.,  194000., 1190700.,  438000., 1937000., 1160000.,\n",
       "        180000.,  139000.,  352000., 3370000.,  259000., 1920000.,\n",
       "       1730000.,  158000.,  988650.,  287000.,  336000., 2300000.,\n",
       "       2950000., 1499000., 1105000.,  177000.,  305390.,  248000.,\n",
       "       1190800., 2800000., 1555000.,  569000., 1990000.,  760000.,\n",
       "       1035592.,  665000., 2280000.,  288000., 2520000., 1947000.,\n",
       "       2400000., 3300000., 4400000., 3500000.,  669000.,  589000.,\n",
       "        203000.,  388000.,  441000.,  775000.,  195000.,  242000.,\n",
       "       1320000.,  268000.,  273000.,  239000.,  278000.,  677000.,\n",
       "       2100000.,  200000., 1210000.,  247000., 2480000.,  529000.,\n",
       "        272000., 1315000.,  517500.,  819000.,  919000.,  214000.,\n",
       "        514000.,  227000.,  474000.,  292000.,  639000.,  659000.,\n",
       "        626000.,  748000., 1065000.,  115000.,  208000.,  140000.,\n",
       "        755000., 1690000.,  875000.,  207000.,  493000.,  108000.,\n",
       "        815000., 2600000.,  797000.,  597000.,  263400.,  609000.,\n",
       "        686500.,  689500.,  896900.,  374000.,  616000., 1600000.,\n",
       "        925000.,  857000.,  424000.,  851000.,  423000.,  133000.,\n",
       "        407000., 1580000., 1390000.,  148000., 2290000.,  483000.,\n",
       "       4500000., 1096500., 1164500.,  918000.,  363000.,  836000.,\n",
       "       1093500.,  318500.,  422000.,  168000.,  940100., 1295600.,\n",
       "       1022000.,  782800., 1095000.,  519000.])"
      ]
     },
     "execution_count": 17,
     "metadata": {},
     "output_type": "execute_result"
    }
   ],
   "source": [
    "df6[\"price\"].unique()"
   ]
  },
  {
   "cell_type": "markdown",
   "id": "ce233423-ed83-4f9a-9502-a5964fcf09dd",
   "metadata": {},
   "source": [
    "This column looks good, no data cleaning nor datatype conversion is needed."
   ]
  },
  {
   "cell_type": "markdown",
   "id": "e7d16b31-1444-4f70-aeb7-c27519958a8b",
   "metadata": {},
   "source": [
    "### 6.7. Feature Engineering: creation of the new feature \"price per square meter\" "
   ]
  },
  {
   "cell_type": "markdown",
   "id": "f7a339d3-ca89-4c2d-a4b3-b2c2472ea045",
   "metadata": {},
   "source": [
    "Now I'll proceed to create the column \"price per square meter\". I'll create this feature because I need it later in the project."
   ]
  },
  {
   "cell_type": "code",
   "execution_count": 18,
   "id": "4ebcfdbe-19fc-42c7-a7aa-595f58e3266c",
   "metadata": {},
   "outputs": [
    {
     "data": {
      "text/html": [
       "<div>\n",
       "<style scoped>\n",
       "    .dataframe tbody tr th:only-of-type {\n",
       "        vertical-align: middle;\n",
       "    }\n",
       "\n",
       "    .dataframe tbody tr th {\n",
       "        vertical-align: top;\n",
       "    }\n",
       "\n",
       "    .dataframe thead th {\n",
       "        text-align: right;\n",
       "    }\n",
       "</style>\n",
       "<table border=\"1\" class=\"dataframe\">\n",
       "  <thead>\n",
       "    <tr style=\"text-align: right;\">\n",
       "      <th></th>\n",
       "      <th>rooms</th>\n",
       "      <th>m2</th>\n",
       "      <th>bathrooms</th>\n",
       "      <th>price</th>\n",
       "      <th>neighborhood</th>\n",
       "      <th>price_per_m2</th>\n",
       "    </tr>\n",
       "  </thead>\n",
       "  <tbody>\n",
       "    <tr>\n",
       "      <th>0</th>\n",
       "      <td>3</td>\n",
       "      <td>140</td>\n",
       "      <td>2</td>\n",
       "      <td>880000.0</td>\n",
       "      <td>centrale</td>\n",
       "      <td>6285.714286</td>\n",
       "    </tr>\n",
       "    <tr>\n",
       "      <th>1</th>\n",
       "      <td>4</td>\n",
       "      <td>121</td>\n",
       "      <td>2</td>\n",
       "      <td>649000.0</td>\n",
       "      <td>centrale</td>\n",
       "      <td>5363.636364</td>\n",
       "    </tr>\n",
       "    <tr>\n",
       "      <th>2</th>\n",
       "      <td>2</td>\n",
       "      <td>55</td>\n",
       "      <td>1</td>\n",
       "      <td>300000.0</td>\n",
       "      <td>viale ungheria - mecenate</td>\n",
       "      <td>5454.545455</td>\n",
       "    </tr>\n",
       "    <tr>\n",
       "      <th>3</th>\n",
       "      <td>2</td>\n",
       "      <td>60</td>\n",
       "      <td>1</td>\n",
       "      <td>250000.0</td>\n",
       "      <td>città studi</td>\n",
       "      <td>4166.666667</td>\n",
       "    </tr>\n",
       "  </tbody>\n",
       "</table>\n",
       "</div>"
      ],
      "text/plain": [
       "   rooms   m2  bathrooms     price               neighborhood  price_per_m2\n",
       "0      3  140          2  880000.0                   centrale   6285.714286\n",
       "1      4  121          2  649000.0                   centrale   5363.636364\n",
       "2      2   55          1  300000.0  viale ungheria - mecenate   5454.545455\n",
       "3      2   60          1  250000.0                città studi   4166.666667"
      ]
     },
     "execution_count": 18,
     "metadata": {},
     "output_type": "execute_result"
    }
   ],
   "source": [
    "df7 = df6.copy()\n",
    "df7['price_per_m2'] = df7['price'] / df7['m2']\n",
    "df7.head(4)"
   ]
  },
  {
   "cell_type": "markdown",
   "id": "cfde8eb3-e204-4ee1-b269-c12d0f141d77",
   "metadata": {},
   "source": [
    "### 6.8. \"neighborhood\" column"
   ]
  },
  {
   "cell_type": "markdown",
   "id": "d62b0f4b-3bbc-4588-896b-9bc888de7452",
   "metadata": {},
   "source": [
    "#### 6.8.1. Reduction of the neighborhoods in the dataframe"
   ]
  },
  {
   "cell_type": "markdown",
   "id": "fb7dc0d9-e120-4273-a55b-41822e93fc2a",
   "metadata": {},
   "source": [
    "In this section I will clean the feature \"neighborhood\". Let's take a first look at the neighborhoods of Milano:"
   ]
  },
  {
   "cell_type": "code",
   "execution_count": 19,
   "id": "7604a264-d708-48f2-bbd8-0502fd4dc637",
   "metadata": {},
   "outputs": [
    {
     "data": {
      "text/plain": [
       "array(['centrale', 'viale ungheria - mecenate', 'città studi',\n",
       "       'piave - tricolore', 'solari', 'frua', 'cadore', 'primaticcio',\n",
       "       'argonne - corsica', 'parco trotter', 'repubblica',\n",
       "       'cascina dei pomi', 'arco della pace', 'indipendenza', 'sempione',\n",
       "       'buenos aires', 'navigli - darsena', 'ortica', 'carrobbio',\n",
       "       'san siro', 'porta venezia', 'barona', 'maggiolina',\n",
       "       'plebisciti - susa', 'ghisolfa - mac mahon', 'montenero',\n",
       "       'lodi - brenta', 'affori', 'cimiano',\n",
       "       \"porta romana - medaglie d'oro\", 'crescenzago',\n",
       "       'via giuseppina lazzaroni', 'cascina merlata - musocco',\n",
       "       'corvetto', 'giambellino', 'bande nere', 'cenisio',\n",
       "       'tre castelli - faenza', 'monte rosa - lotto', 'porta nuova',\n",
       "       'paolo sarpi', 'quadronno - crocetta', 'dezza', 'missori',\n",
       "       'tripoli - soderini', 'lorenteggio', 'greco - segnano', 'lambrate',\n",
       "       'bicocca', 'quartiere adriano', 'moscova', 'arena',\n",
       "       'garibaldi - corso como', 'vercelli - wagner', 'ticinese',\n",
       "       'monte stella', 'turro', 'pagano', 'guastalla', 'certosa',\n",
       "       'washington', 'san vittore', 'cadorna - castello', 'palestro',\n",
       "       'gallaratese', 'de angeli', 'pasteur', 'duomo', 'parco lambro',\n",
       "       'inganni', 'corso genova', 'precotto', 'pezzotti - meda', 'isola',\n",
       "       'lanza', 'zara', 'muggiano', 'trenno', 'turati', 'niguarda',\n",
       "       'corso san gottardo', 'dergano', 'piazzale siena',\n",
       "       'quartiere forlanini', 'porta vittoria', 'udine', 'vincenzo monti',\n",
       "       'morgagni', 'gorla', 'cantalupa - san paolo', 'famagosta',\n",
       "       'casoretto', 'ponte nuovo', 'baggio', 'bovisa',\n",
       "       'amendola - buonarroti', 'bisceglie', 'piazza napoli',\n",
       "       'martini - insubria', 'farini', 'vigentino - fatima', 'city life',\n",
       "       'gambara', 'portello - parco vittoria', 'ripamonti',\n",
       "       'molise - cuoco', \"ca' granda\", 'borgogna - largo augusto',\n",
       "       'santa giulia', 'chiesa rossa', 'san carlo', 'scala - manzoni',\n",
       "       'quintosole - chiaravalle', 'rubattino', 'quarto oggiaro', 'brera',\n",
       "       'bocconi', 'prato centenaro', 'vialba', 'ponte lambro',\n",
       "       'melchiorre gioia', 'comasina', 'istria', 'rovereto',\n",
       "       'villa san giovanni', 'bignami - ponale', 'quarto cagnino',\n",
       "       'gratosoglio', 'bruzzano', 'cermenate - abbiategrasso',\n",
       "       'ascanio sforza', 'quinto romano', 'roserio',\n",
       "       'quadrilatero della moda', 'via valsesia', 'bologna - sulmona',\n",
       "       'figino', 'via dei ciclamini 11', 'qt8', 'bovisasca', 'rogoredo',\n",
       "       'quartiere feltre', 'quartiere olmi'], dtype=object)"
      ]
     },
     "execution_count": 19,
     "metadata": {},
     "output_type": "execute_result"
    }
   ],
   "source": [
    "df7.neighborhood.unique()"
   ]
  },
  {
   "cell_type": "code",
   "execution_count": 20,
   "id": "140dacd0-948d-47c3-a5f0-99e83cb65d89",
   "metadata": {},
   "outputs": [
    {
     "data": {
      "text/plain": [
       "143"
      ]
     },
     "execution_count": 20,
     "metadata": {},
     "output_type": "execute_result"
    }
   ],
   "source": [
    "len(df7.neighborhood.unique())"
   ]
  },
  {
   "cell_type": "markdown",
   "id": "34a27de1-2112-468b-b801-b64c787a1772",
   "metadata": {},
   "source": [
    "This dataset contains many neighborhoods — 143 in total. Let's take a closer look at the neighborhoods, particularly at the frequency of each one in the dataset:"
   ]
  },
  {
   "cell_type": "code",
   "execution_count": 21,
   "id": "9e19e927-a3af-4b40-b2ad-28d54982c4ac",
   "metadata": {},
   "outputs": [
    {
     "data": {
      "text/plain": [
       "neighborhood\n",
       "città studi             75\n",
       "san siro                55\n",
       "sempione                52\n",
       "centrale                49\n",
       "certosa                 47\n",
       "                        ..\n",
       "qt8                      1\n",
       "ponte lambro             1\n",
       "figino                   1\n",
       "rogoredo                 1\n",
       "via dei ciclamini 11     1\n",
       "Name: neighborhood, Length: 143, dtype: int64"
      ]
     },
     "execution_count": 21,
     "metadata": {},
     "output_type": "execute_result"
    }
   ],
   "source": [
    "neighborhood_frequency = df7.groupby('neighborhood')['neighborhood'].agg('count').sort_values(ascending=False)\n",
    "neighborhood_frequency"
   ]
  },
  {
   "cell_type": "markdown",
   "id": "2a4eab91-e2fc-4eac-a61d-60c6d5603311",
   "metadata": {},
   "source": [
    "This dataset contains too many areas, some of which appear only once. To ensure a robust prediction model, let's retain only the neighborhoods that appear at least 10 times and aggregate those that appear fewer than 10 times into a new value called 'other':"
   ]
  },
  {
   "cell_type": "code",
   "execution_count": 22,
   "id": "ccbda05b-97c1-40f2-b0a3-4081ed3577ad",
   "metadata": {},
   "outputs": [
    {
     "data": {
      "text/plain": [
       "neighborhood\n",
       "parco trotter           10\n",
       "bicocca                 10\n",
       "bruzzano                10\n",
       "palestro                10\n",
       "quarto oggiaro          10\n",
       "                        ..\n",
       "qt8                      1\n",
       "ponte lambro             1\n",
       "figino                   1\n",
       "rogoredo                 1\n",
       "via dei ciclamini 11     1\n",
       "Name: neighborhood, Length: 75, dtype: int64"
      ]
     },
     "execution_count": 22,
     "metadata": {},
     "output_type": "execute_result"
    }
   ],
   "source": [
    "neighborhood_freq_less_than_10 = neighborhood_frequency[neighborhood_frequency<=10]\n",
    "neighborhood_freq_less_than_10"
   ]
  },
  {
   "cell_type": "code",
   "execution_count": 23,
   "id": "e6b7b9b6-d117-4819-bf2a-1c619d9224c4",
   "metadata": {},
   "outputs": [
    {
     "data": {
      "text/plain": [
       "66"
      ]
     },
     "execution_count": 23,
     "metadata": {},
     "output_type": "execute_result"
    }
   ],
   "source": [
    "len(neighborhood_frequency[neighborhood_frequency<10])"
   ]
  },
  {
   "cell_type": "code",
   "execution_count": 24,
   "id": "ad33313b-d0e2-43ba-8c13-162ed662506d",
   "metadata": {},
   "outputs": [],
   "source": [
    "df8 = df7.copy()"
   ]
  },
  {
   "cell_type": "code",
   "execution_count": 25,
   "id": "5e51dab9-a2f7-4fa9-a73c-5eab1a911a10",
   "metadata": {},
   "outputs": [],
   "source": [
    "df8.neighborhood = df8.neighborhood.apply(lambda x: 'other' if x in neighborhood_freq_less_than_10 else x)"
   ]
  },
  {
   "cell_type": "markdown",
   "id": "8145a528-3952-40ad-9661-0842d72b925d",
   "metadata": {},
   "source": [
    "Now we can see that the number of unique values in the \"location\" column is significantly reduced from 143 to 69:"
   ]
  },
  {
   "cell_type": "code",
   "execution_count": 26,
   "id": "7ee29da6-4bf6-4826-bd1b-902e74ac3758",
   "metadata": {},
   "outputs": [
    {
     "data": {
      "text/plain": [
       "69"
      ]
     },
     "execution_count": 26,
     "metadata": {},
     "output_type": "execute_result"
    }
   ],
   "source": [
    "len(df8.neighborhood.unique())"
   ]
  },
  {
   "cell_type": "code",
   "execution_count": 27,
   "id": "2c6f4346-6341-47db-adb6-63c5d787aae3",
   "metadata": {},
   "outputs": [
    {
     "data": {
      "text/plain": [
       "neighborhood\n",
       "other               416\n",
       "città studi          75\n",
       "san siro             55\n",
       "sempione             52\n",
       "centrale             49\n",
       "                   ... \n",
       "cascina dei pomi     11\n",
       "gorla                11\n",
       "pagano               11\n",
       "turati               11\n",
       "arena                11\n",
       "Name: neighborhood, Length: 69, dtype: int64"
      ]
     },
     "execution_count": 27,
     "metadata": {},
     "output_type": "execute_result"
    }
   ],
   "source": [
    "df8.groupby('neighborhood')['neighborhood'].agg('count').sort_values(ascending=False)"
   ]
  },
  {
   "cell_type": "markdown",
   "id": "f89bcbb9-f9f9-4cd0-9213-f5c60322091c",
   "metadata": {},
   "source": [
    "### 6.9. Removing outliers"
   ]
  },
  {
   "cell_type": "markdown",
   "id": "3f2c5e31-13de-462c-80fe-18d58b8df3c0",
   "metadata": {},
   "source": [
    "#### 6.9.1. Removing Outliers according to Real Estate business logic "
   ]
  },
  {
   "cell_type": "markdown",
   "id": "0d369b9c-91c7-4dfe-9091-e273882ab969",
   "metadata": {},
   "source": [
    "After speaking with the experts at the real estate company, I was informed that a property should typically have a minimum size of 19 square meters to be considered livable (e.g., a studio apartment with a pantry kitchen and bathroom). Therefore, all properties with a \"square meters/rooms number\" ratio smaller than 19 will be removed:"
   ]
  },
  {
   "cell_type": "code",
   "execution_count": 28,
   "id": "91ebce5a-d4c4-49fc-adb4-754000705b5e",
   "metadata": {
    "scrolled": true
   },
   "outputs": [
    {
     "data": {
      "text/html": [
       "<div>\n",
       "<style scoped>\n",
       "    .dataframe tbody tr th:only-of-type {\n",
       "        vertical-align: middle;\n",
       "    }\n",
       "\n",
       "    .dataframe tbody tr th {\n",
       "        vertical-align: top;\n",
       "    }\n",
       "\n",
       "    .dataframe thead th {\n",
       "        text-align: right;\n",
       "    }\n",
       "</style>\n",
       "<table border=\"1\" class=\"dataframe\">\n",
       "  <thead>\n",
       "    <tr style=\"text-align: right;\">\n",
       "      <th></th>\n",
       "      <th>rooms</th>\n",
       "      <th>m2</th>\n",
       "      <th>bathrooms</th>\n",
       "      <th>price</th>\n",
       "      <th>neighborhood</th>\n",
       "      <th>price_per_m2</th>\n",
       "    </tr>\n",
       "  </thead>\n",
       "  <tbody>\n",
       "    <tr>\n",
       "      <th>144</th>\n",
       "      <td>1</td>\n",
       "      <td>18</td>\n",
       "      <td>1</td>\n",
       "      <td>135000.0</td>\n",
       "      <td>città studi</td>\n",
       "      <td>7500.000000</td>\n",
       "    </tr>\n",
       "    <tr>\n",
       "      <th>148</th>\n",
       "      <td>1</td>\n",
       "      <td>14</td>\n",
       "      <td>1</td>\n",
       "      <td>155000.0</td>\n",
       "      <td>città studi</td>\n",
       "      <td>11071.428571</td>\n",
       "    </tr>\n",
       "    <tr>\n",
       "      <th>217</th>\n",
       "      <td>5</td>\n",
       "      <td>65</td>\n",
       "      <td>1</td>\n",
       "      <td>840000.0</td>\n",
       "      <td>turati</td>\n",
       "      <td>12923.076923</td>\n",
       "    </tr>\n",
       "    <tr>\n",
       "      <th>302</th>\n",
       "      <td>2</td>\n",
       "      <td>32</td>\n",
       "      <td>1</td>\n",
       "      <td>130000.0</td>\n",
       "      <td>certosa</td>\n",
       "      <td>4062.500000</td>\n",
       "    </tr>\n",
       "    <tr>\n",
       "      <th>408</th>\n",
       "      <td>2</td>\n",
       "      <td>35</td>\n",
       "      <td>1</td>\n",
       "      <td>780000.0</td>\n",
       "      <td>duomo</td>\n",
       "      <td>22285.714286</td>\n",
       "    </tr>\n",
       "    <tr>\n",
       "      <th>843</th>\n",
       "      <td>2</td>\n",
       "      <td>35</td>\n",
       "      <td>1</td>\n",
       "      <td>98000.0</td>\n",
       "      <td>cimiano</td>\n",
       "      <td>2800.000000</td>\n",
       "    </tr>\n",
       "    <tr>\n",
       "      <th>1366</th>\n",
       "      <td>2</td>\n",
       "      <td>35</td>\n",
       "      <td>1</td>\n",
       "      <td>239000.0</td>\n",
       "      <td>other</td>\n",
       "      <td>6828.571429</td>\n",
       "    </tr>\n",
       "    <tr>\n",
       "      <th>1421</th>\n",
       "      <td>3</td>\n",
       "      <td>53</td>\n",
       "      <td>1</td>\n",
       "      <td>189000.0</td>\n",
       "      <td>pasteur</td>\n",
       "      <td>3566.037736</td>\n",
       "    </tr>\n",
       "    <tr>\n",
       "      <th>1807</th>\n",
       "      <td>2</td>\n",
       "      <td>30</td>\n",
       "      <td>1</td>\n",
       "      <td>289000.0</td>\n",
       "      <td>paolo sarpi</td>\n",
       "      <td>9633.333333</td>\n",
       "    </tr>\n",
       "    <tr>\n",
       "      <th>1927</th>\n",
       "      <td>2</td>\n",
       "      <td>32</td>\n",
       "      <td>1</td>\n",
       "      <td>175000.0</td>\n",
       "      <td>argonne - corsica</td>\n",
       "      <td>5468.750000</td>\n",
       "    </tr>\n",
       "    <tr>\n",
       "      <th>1981</th>\n",
       "      <td>5</td>\n",
       "      <td>65</td>\n",
       "      <td>1</td>\n",
       "      <td>840000.0</td>\n",
       "      <td>turati</td>\n",
       "      <td>12923.076923</td>\n",
       "    </tr>\n",
       "    <tr>\n",
       "      <th>1983</th>\n",
       "      <td>2</td>\n",
       "      <td>35</td>\n",
       "      <td>1</td>\n",
       "      <td>320000.0</td>\n",
       "      <td>vercelli - wagner</td>\n",
       "      <td>9142.857143</td>\n",
       "    </tr>\n",
       "    <tr>\n",
       "      <th>2088</th>\n",
       "      <td>3</td>\n",
       "      <td>55</td>\n",
       "      <td>1</td>\n",
       "      <td>285000.0</td>\n",
       "      <td>other</td>\n",
       "      <td>5181.818182</td>\n",
       "    </tr>\n",
       "  </tbody>\n",
       "</table>\n",
       "</div>"
      ],
      "text/plain": [
       "      rooms  m2  bathrooms     price       neighborhood  price_per_m2\n",
       "144       1  18          1  135000.0        città studi   7500.000000\n",
       "148       1  14          1  155000.0        città studi  11071.428571\n",
       "217       5  65          1  840000.0             turati  12923.076923\n",
       "302       2  32          1  130000.0            certosa   4062.500000\n",
       "408       2  35          1  780000.0              duomo  22285.714286\n",
       "843       2  35          1   98000.0            cimiano   2800.000000\n",
       "1366      2  35          1  239000.0              other   6828.571429\n",
       "1421      3  53          1  189000.0            pasteur   3566.037736\n",
       "1807      2  30          1  289000.0        paolo sarpi   9633.333333\n",
       "1927      2  32          1  175000.0  argonne - corsica   5468.750000\n",
       "1981      5  65          1  840000.0             turati  12923.076923\n",
       "1983      2  35          1  320000.0  vercelli - wagner   9142.857143\n",
       "2088      3  55          1  285000.0              other   5181.818182"
      ]
     },
     "execution_count": 28,
     "metadata": {},
     "output_type": "execute_result"
    }
   ],
   "source": [
    "df8[df8.m2/df8.rooms<19]"
   ]
  },
  {
   "cell_type": "markdown",
   "id": "5966ad67-4424-47c5-bdeb-3c4d7e0b042b",
   "metadata": {},
   "source": [
    "Here is the logic explained in some examples:\n",
    "\n",
    "- Second Row (Index 148):\n",
    "\n",
    "    A 14 m²-property: This seems unusually small. A 1-room apartment could reasonably have 14 m² (like a small studio), but it might not be practical as a livable space. The price of €155,000 results in a high price per square meter (€11,071), which aligns with prices in expensive cities like Milano, but the small size raises a flag.\n",
    "\n",
    "\n",
    "- Third row (Index 217):\n",
    "\n",
    "  5 rooms and 65 m²: For a 5-room property, 65 m² is extremely small. Normally, you'd expect at least 90–120 m² for 5 rooms to be functional. This likely indicates either:\n",
    "    Incorrect data (e.g., rooms/m² mismatch).\n",
    "    A misinterpretation of \"rooms\" (e.g., including kitchen/bathroom).\n",
    "    The price (€840,000) and price per square meter (€12,923) align with expensive neighborhoods like Turati in Milano, but the size-to-rooms ratio is suspicious.\n",
    "\n",
    "\n",
    "Rows with \"rooms-to-m²\" ratios below 19 likely reflect data issues or non-standard properties (e.g., tiny or poorly described). These should be treated as outliers and therefore removed:"
   ]
  },
  {
   "cell_type": "code",
   "execution_count": 29,
   "id": "fb7d9507-8b52-4660-ae30-0ad58a6dd55d",
   "metadata": {},
   "outputs": [],
   "source": [
    "df9 = df8.copy()\n",
    "df9 = df9[df9.m2 / df9.rooms >= 19].copy()"
   ]
  },
  {
   "cell_type": "code",
   "execution_count": 30,
   "id": "67ea8801-49a0-4e14-8f4e-9abe71f5cef1",
   "metadata": {},
   "outputs": [
    {
     "data": {
      "text/html": [
       "<div>\n",
       "<style scoped>\n",
       "    .dataframe tbody tr th:only-of-type {\n",
       "        vertical-align: middle;\n",
       "    }\n",
       "\n",
       "    .dataframe tbody tr th {\n",
       "        vertical-align: top;\n",
       "    }\n",
       "\n",
       "    .dataframe thead th {\n",
       "        text-align: right;\n",
       "    }\n",
       "</style>\n",
       "<table border=\"1\" class=\"dataframe\">\n",
       "  <thead>\n",
       "    <tr style=\"text-align: right;\">\n",
       "      <th></th>\n",
       "      <th>rooms</th>\n",
       "      <th>m2</th>\n",
       "      <th>bathrooms</th>\n",
       "      <th>price</th>\n",
       "      <th>neighborhood</th>\n",
       "      <th>price_per_m2</th>\n",
       "    </tr>\n",
       "  </thead>\n",
       "  <tbody>\n",
       "  </tbody>\n",
       "</table>\n",
       "</div>"
      ],
      "text/plain": [
       "Empty DataFrame\n",
       "Columns: [rooms, m2, bathrooms, price, neighborhood, price_per_m2]\n",
       "Index: []"
      ]
     },
     "execution_count": 30,
     "metadata": {},
     "output_type": "execute_result"
    }
   ],
   "source": [
    "df9[df9.m2/df9.rooms<19]"
   ]
  },
  {
   "cell_type": "markdown",
   "id": "8d29de43-72dd-4326-8a29-f13fb31e6443",
   "metadata": {},
   "source": [
    "#### 6.9.2. Removing Outliers basing on bathrooms number "
   ]
  },
  {
   "cell_type": "markdown",
   "id": "3d49b80e-1cba-47bc-813c-5e49de5b66ec",
   "metadata": {},
   "source": [
    "After discussing with the real estate company’s team what factors could be considered potential outliers in a housing dataset, we concluded that properties where the number of bathrooms exceeds the number of rooms are unusual and can therefore be classified as outliers:"
   ]
  },
  {
   "cell_type": "code",
   "execution_count": 31,
   "id": "a7a3d86d-7991-45d7-9f43-7e5e3de66c1f",
   "metadata": {},
   "outputs": [
    {
     "data": {
      "text/html": [
       "<div>\n",
       "<style scoped>\n",
       "    .dataframe tbody tr th:only-of-type {\n",
       "        vertical-align: middle;\n",
       "    }\n",
       "\n",
       "    .dataframe tbody tr th {\n",
       "        vertical-align: top;\n",
       "    }\n",
       "\n",
       "    .dataframe thead th {\n",
       "        text-align: right;\n",
       "    }\n",
       "</style>\n",
       "<table border=\"1\" class=\"dataframe\">\n",
       "  <thead>\n",
       "    <tr style=\"text-align: right;\">\n",
       "      <th></th>\n",
       "      <th>rooms</th>\n",
       "      <th>m2</th>\n",
       "      <th>bathrooms</th>\n",
       "      <th>price</th>\n",
       "      <th>neighborhood</th>\n",
       "      <th>price_per_m2</th>\n",
       "    </tr>\n",
       "  </thead>\n",
       "  <tbody>\n",
       "    <tr>\n",
       "      <th>515</th>\n",
       "      <td>1</td>\n",
       "      <td>75</td>\n",
       "      <td>2</td>\n",
       "      <td>632000.0</td>\n",
       "      <td>turati</td>\n",
       "      <td>8426.666667</td>\n",
       "    </tr>\n",
       "    <tr>\n",
       "      <th>614</th>\n",
       "      <td>2</td>\n",
       "      <td>71</td>\n",
       "      <td>4</td>\n",
       "      <td>314000.0</td>\n",
       "      <td>ghisolfa - mac mahon</td>\n",
       "      <td>4422.535211</td>\n",
       "    </tr>\n",
       "    <tr>\n",
       "      <th>946</th>\n",
       "      <td>2</td>\n",
       "      <td>246</td>\n",
       "      <td>3</td>\n",
       "      <td>1510000.0</td>\n",
       "      <td>other</td>\n",
       "      <td>6138.211382</td>\n",
       "    </tr>\n",
       "    <tr>\n",
       "      <th>1216</th>\n",
       "      <td>3</td>\n",
       "      <td>155</td>\n",
       "      <td>6</td>\n",
       "      <td>1220000.0</td>\n",
       "      <td>isola</td>\n",
       "      <td>7870.967742</td>\n",
       "    </tr>\n",
       "    <tr>\n",
       "      <th>1410</th>\n",
       "      <td>2</td>\n",
       "      <td>65</td>\n",
       "      <td>3</td>\n",
       "      <td>335000.0</td>\n",
       "      <td>other</td>\n",
       "      <td>5153.846154</td>\n",
       "    </tr>\n",
       "    <tr>\n",
       "      <th>1430</th>\n",
       "      <td>1</td>\n",
       "      <td>35</td>\n",
       "      <td>6</td>\n",
       "      <td>220000.0</td>\n",
       "      <td>città studi</td>\n",
       "      <td>6285.714286</td>\n",
       "    </tr>\n",
       "  </tbody>\n",
       "</table>\n",
       "</div>"
      ],
      "text/plain": [
       "      rooms   m2  bathrooms      price          neighborhood  price_per_m2\n",
       "515       1   75          2   632000.0                turati   8426.666667\n",
       "614       2   71          4   314000.0  ghisolfa - mac mahon   4422.535211\n",
       "946       2  246          3  1510000.0                 other   6138.211382\n",
       "1216      3  155          6  1220000.0                 isola   7870.967742\n",
       "1410      2   65          3   335000.0                 other   5153.846154\n",
       "1430      1   35          6   220000.0           città studi   6285.714286"
      ]
     },
     "execution_count": 31,
     "metadata": {},
     "output_type": "execute_result"
    }
   ],
   "source": [
    "df9[df9.bathrooms>df9.rooms]"
   ]
  },
  {
   "cell_type": "markdown",
   "id": "499a101a-e73e-43de-8f97-27258fe4ffb9",
   "metadata": {},
   "source": [
    "These rows will be removed from the dataset to ensure data consistency:"
   ]
  },
  {
   "cell_type": "code",
   "execution_count": 32,
   "id": "6e9b3eb4-35c9-445c-adbd-3bb7478149be",
   "metadata": {},
   "outputs": [],
   "source": [
    "df10 = df9[df9.bathrooms<df9.rooms]"
   ]
  },
  {
   "cell_type": "markdown",
   "id": "775250f9-135c-418c-bc6d-6fc3cc7859af",
   "metadata": {},
   "source": [
    "#### 6.9.3. Outlier Removal Using Standard Deviation and Mean"
   ]
  },
  {
   "cell_type": "markdown",
   "id": "261f1f10-ef88-4a2e-ad77-41756ff9bd03",
   "metadata": {},
   "source": [
    "Let's take a look at the summary statistics of the column \"price per square meter\":"
   ]
  },
  {
   "cell_type": "code",
   "execution_count": 33,
   "id": "2a4f35fa-465e-4fb0-999e-b5ae3c53a6e0",
   "metadata": {},
   "outputs": [
    {
     "data": {
      "text/plain": [
       "count     1734.000000\n",
       "mean      5767.135843\n",
       "std       2461.551647\n",
       "min          1.000000\n",
       "25%       4017.729865\n",
       "50%       5320.194175\n",
       "75%       7000.000000\n",
       "max      30000.000000\n",
       "Name: price_per_m2, dtype: float64"
      ]
     },
     "execution_count": 33,
     "metadata": {},
     "output_type": "execute_result"
    }
   ],
   "source": [
    "df10.price_per_m2.describe()"
   ]
  },
  {
   "cell_type": "code",
   "execution_count": 34,
   "id": "60fe4e4c-f353-40e7-b4cd-4888a043a761",
   "metadata": {},
   "outputs": [
    {
     "data": {
      "text/plain": [
       "(1734, 6)"
      ]
     },
     "execution_count": 34,
     "metadata": {},
     "output_type": "execute_result"
    }
   ],
   "source": [
    "df10.shape"
   ]
  },
  {
   "cell_type": "markdown",
   "id": "84582a89-d763-4161-ba05-6d09d6d84e41",
   "metadata": {},
   "source": [
    "Here we see that the mean price per m² is approximately 5837 €/m², while the minimum is 1 €/m² and the maximum is 30,000 €/m². This indicates a high standard deviation, meaning that property prices vary significantly.\n",
    "\n",
    "Some neighborhoods have higher prices, while others have lower prices. Therefore, I will create a function that:\n",
    "\n",
    "1) Calculates the mean price and standard deviation for each neighborhood.\n",
    "2) Removes from the dataset properties that are beyond one standard deviation for that neighborhood.\n",
    "\n",
    "Here is the function:"
   ]
  },
  {
   "cell_type": "code",
   "execution_count": 35,
   "id": "81b67761-2dc4-4a71-8ea5-b7555b55d64d",
   "metadata": {},
   "outputs": [
    {
     "data": {
      "text/plain": [
       "(1233, 6)"
      ]
     },
     "execution_count": 35,
     "metadata": {},
     "output_type": "execute_result"
    }
   ],
   "source": [
    "def remove_price_per_m2_outliers(df):\n",
    "    df_out = pd.DataFrame()\n",
    "    for key, subdf in df.groupby('neighborhood'):\n",
    "        mean = np.mean(subdf.price_per_m2)\n",
    "        std_dev = np.std(subdf.price_per_m2)\n",
    "        reduced_df = subdf[(subdf.price_per_m2>(mean-std_dev)) & (subdf.price_per_m2<=(mean+std_dev))]\n",
    "        df_out = pd.concat([df_out,reduced_df],ignore_index=True)\n",
    "    return df_out\n",
    "\n",
    "\n",
    "df11 = remove_price_per_m2_outliers(df10)\n",
    "df11.shape"
   ]
  },
  {
   "cell_type": "markdown",
   "id": "6cccf6d9-b75d-42f1-82ca-05909005516b",
   "metadata": {},
   "source": [
    "Let's check for a given location how the 2rooms- and 3rooms- property prices look like:"
   ]
  },
  {
   "cell_type": "code",
   "execution_count": 36,
   "id": "88fc140e-c89c-4841-b9ef-d4bf81ae4a7f",
   "metadata": {},
   "outputs": [
    {
     "data": {
      "image/png": "[encoded data removed]",
      "text/plain": [
       "<Figure size 1500x1000 with 1 Axes>"
      ]
     },
     "metadata": {},
     "output_type": "display_data"
    }
   ],
   "source": [
    "def plot_scatter_chart(df, neighborhood):\n",
    "\n",
    "    two_rooms_houses = df.loc[(df['neighborhood'] == neighborhood) & (df['rooms'] == 2)]\n",
    "    three_rooms_houses = df.loc[(df['neighborhood'] == neighborhood) & (df['rooms'] == 3)]\n",
    "\n",
    "    matplotlib.rcParams['figure.figsize'] = (15,10)\n",
    "    plt.scatter(two_rooms_houses.m2,two_rooms_houses.price,color='blue',label='2rooms-houses', s=50)\n",
    "    plt.scatter(three_rooms_houses.m2,three_rooms_houses.price,marker='+', color='green',label='3 BHK', s=50)\n",
    "    plt.xlabel(\"Total Square Feet Area\")\n",
    "    plt.ylabel(\"Price (Lakh Indian Rupees)\")\n",
    "    plt.title(\"Neighborhood: \"+neighborhood)\n",
    "    plt.legend()\n",
    "    \n",
    "plot_scatter_chart(df11,\"centrale\")"
   ]
  },
  {
   "cell_type": "markdown",
   "id": "98a658c7-3d07-432f-baf0-a008f714cc37",
   "metadata": {},
   "source": [
    "We should also remove properties where given same neighborhood and same square meters area, the price of (for example) 3 bedroom apartment is less than 2 bedroom apartment. This function removes outliers where, within the same neighborhood and same area, a larger apartment (e.g., 3-bedroom) has a lower price per m² than a smaller apartment (e.g., 2-bedroom).\n",
    "\n",
    "The following function, called remove_houses_outliers, is structured as follows:\n",
    "\n",
    "1) An empty NumPy array is created to store the indices of rows that will be removed (the outliers).\n",
    "2) The function loops through each neighborhood. For each group of properties (e.g., all 2-bedroom apartments, all 3-bedroom apartments), it calculates: \"mean price per m²\", \"standard deviation of price per m²\", \"Number of properties in the group\"\n",
    "3) If a larger apartment has a lower price per m² than the average of smaller apartments, its index is added to exclude_indices.\n",
    "4) The function returns a DataFrame with the outlier rows removed."
   ]
  },
  {
   "cell_type": "code",
   "execution_count": 37,
   "id": "411835bc-704a-453b-9278-bdc9a0540049",
   "metadata": {},
   "outputs": [
    {
     "data": {
      "text/plain": [
       "(1233, 6)"
      ]
     },
     "execution_count": 37,
     "metadata": {},
     "output_type": "execute_result"
    }
   ],
   "source": [
    "def remove_houses_outliers(df):\n",
    "    excluded_indices = np.array([])\n",
    "    for neighborhood, neighborhood_df in df.groupby('neighborhood'):\n",
    "        rooms_stats = {}\n",
    "        for rooms, rooms_df in neighborhood_df.groupby('rooms'):\n",
    "            rooms_stats[rooms] = {\n",
    "                'mean': np.mean(rooms_df.price_per_m2),\n",
    "                'std': np.std(rooms_df.price_per_m2),\n",
    "                'count': rooms_df.shape[0]\n",
    "            }\n",
    "        for rooms, rooms_df in neighborhood_df.groupby('rooms'):\n",
    "            stats = rooms_stats.get(rooms-1)\n",
    "            if stats and stats['count']>5:\n",
    "                exclude_indices = np.append(excluded_indices, rooms_df[rooms_df.price_per_m2<(stats['mean'])].index.values)\n",
    "    return df.drop(excluded_indices,axis='index')\n",
    "df12 = remove_houses_outliers(df11)\n",
    "df12.shape"
   ]
  },
  {
   "cell_type": "markdown",
   "id": "20dbf09e-ec41-499a-939f-81745540ed88",
   "metadata": {},
   "source": [
    "From the number of rows \"1233\", which is the same as in the previous output, we can see that no row has been deleted."
   ]
  },
  {
   "cell_type": "markdown",
   "id": "a76678c7-66f1-4da3-b767-bb9008a4fd3a",
   "metadata": {},
   "source": [
    "### 6.10. One-Hot Encoding for  \"neighborhood\" column"
   ]
  },
  {
   "cell_type": "markdown",
   "id": "c62fd1f4-f4a1-4043-a740-9958f551ae78",
   "metadata": {},
   "source": [
    "The \"neighborhood\" feature needs one final adjustment. Since \"neighborhood\" is a qualitative, not a quantitative variable, and linear regression models require numerical inputs, we will convert the \"neighborhood\" feature into dummy variables—one for each unique neighborhood in the dataset:"
   ]
  },
  {
   "cell_type": "code",
   "execution_count": 38,
   "id": "33b807ef-21e3-4501-a180-9f2082c4ba6a",
   "metadata": {},
   "outputs": [],
   "source": [
    "neighborhood_dummies = pd.get_dummies(df12.neighborhood).astype(int)\n",
    "#neighborhood_dummies.head(10)"
   ]
  },
  {
   "cell_type": "markdown",
   "id": "215e3a4c-f6ae-4251-9aa7-8bcd27b572a4",
   "metadata": {},
   "source": [
    "Let's append these dummies to the dataframe. To do this, I'll concatenate the two dataframes df12 and neighborhood_dummies:"
   ]
  },
  {
   "cell_type": "code",
   "execution_count": 39,
   "id": "e033245d-b1db-4b26-aec8-7497d25a185b",
   "metadata": {},
   "outputs": [
    {
     "data": {
      "text/html": [
       "<div>\n",
       "<style scoped>\n",
       "    .dataframe tbody tr th:only-of-type {\n",
       "        vertical-align: middle;\n",
       "    }\n",
       "\n",
       "    .dataframe tbody tr th {\n",
       "        vertical-align: top;\n",
       "    }\n",
       "\n",
       "    .dataframe thead th {\n",
       "        text-align: right;\n",
       "    }\n",
       "</style>\n",
       "<table border=\"1\" class=\"dataframe\">\n",
       "  <thead>\n",
       "    <tr style=\"text-align: right;\">\n",
       "      <th></th>\n",
       "      <th>rooms</th>\n",
       "      <th>m2</th>\n",
       "      <th>bathrooms</th>\n",
       "      <th>price</th>\n",
       "      <th>neighborhood</th>\n",
       "      <th>price_per_m2</th>\n",
       "      <th>affori</th>\n",
       "      <th>arena</th>\n",
       "      <th>argonne - corsica</th>\n",
       "      <th>baggio</th>\n",
       "      <th>...</th>\n",
       "      <th>sempione</th>\n",
       "      <th>solari</th>\n",
       "      <th>ticinese</th>\n",
       "      <th>tre castelli - faenza</th>\n",
       "      <th>turati</th>\n",
       "      <th>vercelli - wagner</th>\n",
       "      <th>viale ungheria - mecenate</th>\n",
       "      <th>vigentino - fatima</th>\n",
       "      <th>vincenzo monti</th>\n",
       "      <th>washington</th>\n",
       "    </tr>\n",
       "  </thead>\n",
       "  <tbody>\n",
       "    <tr>\n",
       "      <th>0</th>\n",
       "      <td>2</td>\n",
       "      <td>75</td>\n",
       "      <td>1</td>\n",
       "      <td>219000.0</td>\n",
       "      <td>affori</td>\n",
       "      <td>2920.00000</td>\n",
       "      <td>1</td>\n",
       "      <td>0</td>\n",
       "      <td>0</td>\n",
       "      <td>0</td>\n",
       "      <td>...</td>\n",
       "      <td>0</td>\n",
       "      <td>0</td>\n",
       "      <td>0</td>\n",
       "      <td>0</td>\n",
       "      <td>0</td>\n",
       "      <td>0</td>\n",
       "      <td>0</td>\n",
       "      <td>0</td>\n",
       "      <td>0</td>\n",
       "      <td>0</td>\n",
       "    </tr>\n",
       "    <tr>\n",
       "      <th>1</th>\n",
       "      <td>4</td>\n",
       "      <td>120</td>\n",
       "      <td>2</td>\n",
       "      <td>429000.0</td>\n",
       "      <td>affori</td>\n",
       "      <td>3575.00000</td>\n",
       "      <td>1</td>\n",
       "      <td>0</td>\n",
       "      <td>0</td>\n",
       "      <td>0</td>\n",
       "      <td>...</td>\n",
       "      <td>0</td>\n",
       "      <td>0</td>\n",
       "      <td>0</td>\n",
       "      <td>0</td>\n",
       "      <td>0</td>\n",
       "      <td>0</td>\n",
       "      <td>0</td>\n",
       "      <td>0</td>\n",
       "      <td>0</td>\n",
       "      <td>0</td>\n",
       "    </tr>\n",
       "    <tr>\n",
       "      <th>2</th>\n",
       "      <td>2</td>\n",
       "      <td>46</td>\n",
       "      <td>1</td>\n",
       "      <td>185000.0</td>\n",
       "      <td>affori</td>\n",
       "      <td>4021.73913</td>\n",
       "      <td>1</td>\n",
       "      <td>0</td>\n",
       "      <td>0</td>\n",
       "      <td>0</td>\n",
       "      <td>...</td>\n",
       "      <td>0</td>\n",
       "      <td>0</td>\n",
       "      <td>0</td>\n",
       "      <td>0</td>\n",
       "      <td>0</td>\n",
       "      <td>0</td>\n",
       "      <td>0</td>\n",
       "      <td>0</td>\n",
       "      <td>0</td>\n",
       "      <td>0</td>\n",
       "    </tr>\n",
       "  </tbody>\n",
       "</table>\n",
       "<p>3 rows × 74 columns</p>\n",
       "</div>"
      ],
      "text/plain": [
       "   rooms   m2  bathrooms     price neighborhood  price_per_m2  affori  arena  \\\n",
       "0      2   75          1  219000.0       affori    2920.00000       1      0   \n",
       "1      4  120          2  429000.0       affori    3575.00000       1      0   \n",
       "2      2   46          1  185000.0       affori    4021.73913       1      0   \n",
       "\n",
       "   argonne - corsica  baggio  ...  sempione  solari  ticinese  \\\n",
       "0                  0       0  ...         0       0         0   \n",
       "1                  0       0  ...         0       0         0   \n",
       "2                  0       0  ...         0       0         0   \n",
       "\n",
       "   tre castelli - faenza  turati  vercelli - wagner  \\\n",
       "0                      0       0                  0   \n",
       "1                      0       0                  0   \n",
       "2                      0       0                  0   \n",
       "\n",
       "   viale ungheria - mecenate  vigentino - fatima  vincenzo monti  washington  \n",
       "0                          0                   0               0           0  \n",
       "1                          0                   0               0           0  \n",
       "2                          0                   0               0           0  \n",
       "\n",
       "[3 rows x 74 columns]"
      ]
     },
     "execution_count": 39,
     "metadata": {},
     "output_type": "execute_result"
    }
   ],
   "source": [
    "df13 = pd.concat([df12,neighborhood_dummies.drop('other',axis='columns')],axis='columns') # we droped the column \"other\" from the dataframe called \"location_dummies\"\n",
    "df13.head(3)"
   ]
  },
  {
   "cell_type": "markdown",
   "id": "d27bb901-8f09-468a-8313-e92c92e52276",
   "metadata": {},
   "source": [
    "### 6.11. Dropping the columns \"neighborhood\" and \"price_per_m2\""
   ]
  },
  {
   "cell_type": "markdown",
   "id": "72fb261b-daca-4945-b729-510cc8e07bd0",
   "metadata": {},
   "source": [
    "Finally we drop the columns \"neighborhood\" and \"price_per_m2\", since we don't need them anymore (we converted the \"neighborhood\" column into dummies and we used the feature \"price_per_m2\" for our previous functions):"
   ]
  },
  {
   "cell_type": "code",
   "execution_count": 40,
   "id": "d0207e72-62a9-446d-8b53-11ac51d37f5d",
   "metadata": {},
   "outputs": [
    {
     "data": {
      "text/html": [
       "<div>\n",
       "<style scoped>\n",
       "    .dataframe tbody tr th:only-of-type {\n",
       "        vertical-align: middle;\n",
       "    }\n",
       "\n",
       "    .dataframe tbody tr th {\n",
       "        vertical-align: top;\n",
       "    }\n",
       "\n",
       "    .dataframe thead th {\n",
       "        text-align: right;\n",
       "    }\n",
       "</style>\n",
       "<table border=\"1\" class=\"dataframe\">\n",
       "  <thead>\n",
       "    <tr style=\"text-align: right;\">\n",
       "      <th></th>\n",
       "      <th>rooms</th>\n",
       "      <th>m2</th>\n",
       "      <th>bathrooms</th>\n",
       "      <th>price</th>\n",
       "      <th>affori</th>\n",
       "      <th>arena</th>\n",
       "      <th>argonne - corsica</th>\n",
       "      <th>baggio</th>\n",
       "      <th>bande nere</th>\n",
       "      <th>bovisa</th>\n",
       "      <th>...</th>\n",
       "      <th>sempione</th>\n",
       "      <th>solari</th>\n",
       "      <th>ticinese</th>\n",
       "      <th>tre castelli - faenza</th>\n",
       "      <th>turati</th>\n",
       "      <th>vercelli - wagner</th>\n",
       "      <th>viale ungheria - mecenate</th>\n",
       "      <th>vigentino - fatima</th>\n",
       "      <th>vincenzo monti</th>\n",
       "      <th>washington</th>\n",
       "    </tr>\n",
       "  </thead>\n",
       "  <tbody>\n",
       "    <tr>\n",
       "      <th>0</th>\n",
       "      <td>2</td>\n",
       "      <td>75</td>\n",
       "      <td>1</td>\n",
       "      <td>219000.0</td>\n",
       "      <td>1</td>\n",
       "      <td>0</td>\n",
       "      <td>0</td>\n",
       "      <td>0</td>\n",
       "      <td>0</td>\n",
       "      <td>0</td>\n",
       "      <td>...</td>\n",
       "      <td>0</td>\n",
       "      <td>0</td>\n",
       "      <td>0</td>\n",
       "      <td>0</td>\n",
       "      <td>0</td>\n",
       "      <td>0</td>\n",
       "      <td>0</td>\n",
       "      <td>0</td>\n",
       "      <td>0</td>\n",
       "      <td>0</td>\n",
       "    </tr>\n",
       "    <tr>\n",
       "      <th>1</th>\n",
       "      <td>4</td>\n",
       "      <td>120</td>\n",
       "      <td>2</td>\n",
       "      <td>429000.0</td>\n",
       "      <td>1</td>\n",
       "      <td>0</td>\n",
       "      <td>0</td>\n",
       "      <td>0</td>\n",
       "      <td>0</td>\n",
       "      <td>0</td>\n",
       "      <td>...</td>\n",
       "      <td>0</td>\n",
       "      <td>0</td>\n",
       "      <td>0</td>\n",
       "      <td>0</td>\n",
       "      <td>0</td>\n",
       "      <td>0</td>\n",
       "      <td>0</td>\n",
       "      <td>0</td>\n",
       "      <td>0</td>\n",
       "      <td>0</td>\n",
       "    </tr>\n",
       "    <tr>\n",
       "      <th>2</th>\n",
       "      <td>2</td>\n",
       "      <td>46</td>\n",
       "      <td>1</td>\n",
       "      <td>185000.0</td>\n",
       "      <td>1</td>\n",
       "      <td>0</td>\n",
       "      <td>0</td>\n",
       "      <td>0</td>\n",
       "      <td>0</td>\n",
       "      <td>0</td>\n",
       "      <td>...</td>\n",
       "      <td>0</td>\n",
       "      <td>0</td>\n",
       "      <td>0</td>\n",
       "      <td>0</td>\n",
       "      <td>0</td>\n",
       "      <td>0</td>\n",
       "      <td>0</td>\n",
       "      <td>0</td>\n",
       "      <td>0</td>\n",
       "      <td>0</td>\n",
       "    </tr>\n",
       "  </tbody>\n",
       "</table>\n",
       "<p>3 rows × 72 columns</p>\n",
       "</div>"
      ],
      "text/plain": [
       "   rooms   m2  bathrooms     price  affori  arena  argonne - corsica  baggio  \\\n",
       "0      2   75          1  219000.0       1      0                  0       0   \n",
       "1      4  120          2  429000.0       1      0                  0       0   \n",
       "2      2   46          1  185000.0       1      0                  0       0   \n",
       "\n",
       "   bande nere  bovisa  ...  sempione  solari  ticinese  tre castelli - faenza  \\\n",
       "0           0       0  ...         0       0         0                      0   \n",
       "1           0       0  ...         0       0         0                      0   \n",
       "2           0       0  ...         0       0         0                      0   \n",
       "\n",
       "   turati  vercelli - wagner  viale ungheria - mecenate  vigentino - fatima  \\\n",
       "0       0                  0                          0                   0   \n",
       "1       0                  0                          0                   0   \n",
       "2       0                  0                          0                   0   \n",
       "\n",
       "   vincenzo monti  washington  \n",
       "0               0           0  \n",
       "1               0           0  \n",
       "2               0           0  \n",
       "\n",
       "[3 rows x 72 columns]"
      ]
     },
     "execution_count": 40,
     "metadata": {},
     "output_type": "execute_result"
    }
   ],
   "source": [
    "df14 = df13.copy()\n",
    "df14 = df14.drop([\"neighborhood\", \"price_per_m2\"],axis='columns')\n",
    "df14.head(3)"
   ]
  },
  {
   "cell_type": "markdown",
   "id": "f75afa16-17a6-47f7-be74-284bb14643bf",
   "metadata": {},
   "source": [
    "Now the dataset is fully clean and ready to be used for the linear regression model."
   ]
  },
  {
   "cell_type": "markdown",
   "id": "d9dabbe7-356a-4ffb-839e-e946708b7053",
   "metadata": {},
   "source": [
    "## 7. Linear Regression Model"
   ]
  },
  {
   "cell_type": "markdown",
   "id": "71344acc-1ffe-4680-9ad2-58187a7cbd86",
   "metadata": {},
   "source": [
    "### 7.1. Building the linear regression model"
   ]
  },
  {
   "cell_type": "markdown",
   "id": "025b89bb-6752-4f25-a735-7e7a2fdf84e4",
   "metadata": {},
   "source": [
    "In the following code I define the independent variables for the model: to do this, I create a dataframe called \"X\" and simply drop the only variable that should not be part of it, i.e. \"price\""
   ]
  },
  {
   "cell_type": "code",
   "execution_count": 41,
   "id": "f79a78de-e699-42a0-8e9a-0414ba220f57",
   "metadata": {},
   "outputs": [
    {
     "data": {
      "text/html": [
       "<div>\n",
       "<style scoped>\n",
       "    .dataframe tbody tr th:only-of-type {\n",
       "        vertical-align: middle;\n",
       "    }\n",
       "\n",
       "    .dataframe tbody tr th {\n",
       "        vertical-align: top;\n",
       "    }\n",
       "\n",
       "    .dataframe thead th {\n",
       "        text-align: right;\n",
       "    }\n",
       "</style>\n",
       "<table border=\"1\" class=\"dataframe\">\n",
       "  <thead>\n",
       "    <tr style=\"text-align: right;\">\n",
       "      <th></th>\n",
       "      <th>rooms</th>\n",
       "      <th>m2</th>\n",
       "      <th>bathrooms</th>\n",
       "      <th>affori</th>\n",
       "      <th>arena</th>\n",
       "      <th>argonne - corsica</th>\n",
       "      <th>baggio</th>\n",
       "      <th>bande nere</th>\n",
       "      <th>bovisa</th>\n",
       "      <th>buenos aires</th>\n",
       "      <th>...</th>\n",
       "      <th>sempione</th>\n",
       "      <th>solari</th>\n",
       "      <th>ticinese</th>\n",
       "      <th>tre castelli - faenza</th>\n",
       "      <th>turati</th>\n",
       "      <th>vercelli - wagner</th>\n",
       "      <th>viale ungheria - mecenate</th>\n",
       "      <th>vigentino - fatima</th>\n",
       "      <th>vincenzo monti</th>\n",
       "      <th>washington</th>\n",
       "    </tr>\n",
       "  </thead>\n",
       "  <tbody>\n",
       "    <tr>\n",
       "      <th>0</th>\n",
       "      <td>2</td>\n",
       "      <td>75</td>\n",
       "      <td>1</td>\n",
       "      <td>1</td>\n",
       "      <td>0</td>\n",
       "      <td>0</td>\n",
       "      <td>0</td>\n",
       "      <td>0</td>\n",
       "      <td>0</td>\n",
       "      <td>0</td>\n",
       "      <td>...</td>\n",
       "      <td>0</td>\n",
       "      <td>0</td>\n",
       "      <td>0</td>\n",
       "      <td>0</td>\n",
       "      <td>0</td>\n",
       "      <td>0</td>\n",
       "      <td>0</td>\n",
       "      <td>0</td>\n",
       "      <td>0</td>\n",
       "      <td>0</td>\n",
       "    </tr>\n",
       "    <tr>\n",
       "      <th>1</th>\n",
       "      <td>4</td>\n",
       "      <td>120</td>\n",
       "      <td>2</td>\n",
       "      <td>1</td>\n",
       "      <td>0</td>\n",
       "      <td>0</td>\n",
       "      <td>0</td>\n",
       "      <td>0</td>\n",
       "      <td>0</td>\n",
       "      <td>0</td>\n",
       "      <td>...</td>\n",
       "      <td>0</td>\n",
       "      <td>0</td>\n",
       "      <td>0</td>\n",
       "      <td>0</td>\n",
       "      <td>0</td>\n",
       "      <td>0</td>\n",
       "      <td>0</td>\n",
       "      <td>0</td>\n",
       "      <td>0</td>\n",
       "      <td>0</td>\n",
       "    </tr>\n",
       "    <tr>\n",
       "      <th>2</th>\n",
       "      <td>2</td>\n",
       "      <td>46</td>\n",
       "      <td>1</td>\n",
       "      <td>1</td>\n",
       "      <td>0</td>\n",
       "      <td>0</td>\n",
       "      <td>0</td>\n",
       "      <td>0</td>\n",
       "      <td>0</td>\n",
       "      <td>0</td>\n",
       "      <td>...</td>\n",
       "      <td>0</td>\n",
       "      <td>0</td>\n",
       "      <td>0</td>\n",
       "      <td>0</td>\n",
       "      <td>0</td>\n",
       "      <td>0</td>\n",
       "      <td>0</td>\n",
       "      <td>0</td>\n",
       "      <td>0</td>\n",
       "      <td>0</td>\n",
       "    </tr>\n",
       "  </tbody>\n",
       "</table>\n",
       "<p>3 rows × 71 columns</p>\n",
       "</div>"
      ],
      "text/plain": [
       "   rooms   m2  bathrooms  affori  arena  argonne - corsica  baggio  \\\n",
       "0      2   75          1       1      0                  0       0   \n",
       "1      4  120          2       1      0                  0       0   \n",
       "2      2   46          1       1      0                  0       0   \n",
       "\n",
       "   bande nere  bovisa  buenos aires  ...  sempione  solari  ticinese  \\\n",
       "0           0       0             0  ...         0       0         0   \n",
       "1           0       0             0  ...         0       0         0   \n",
       "2           0       0             0  ...         0       0         0   \n",
       "\n",
       "   tre castelli - faenza  turati  vercelli - wagner  \\\n",
       "0                      0       0                  0   \n",
       "1                      0       0                  0   \n",
       "2                      0       0                  0   \n",
       "\n",
       "   viale ungheria - mecenate  vigentino - fatima  vincenzo monti  washington  \n",
       "0                          0                   0               0           0  \n",
       "1                          0                   0               0           0  \n",
       "2                          0                   0               0           0  \n",
       "\n",
       "[3 rows x 71 columns]"
      ]
     },
     "execution_count": 41,
     "metadata": {},
     "output_type": "execute_result"
    }
   ],
   "source": [
    "X = df14.drop(['price'],axis='columns')\n",
    "X.head(3)"
   ]
  },
  {
   "cell_type": "markdown",
   "id": "dc763c54-1e7a-4298-a5c0-fc3045c86570",
   "metadata": {},
   "source": [
    "Here below I do the exact opposite: I create a dataframe y and keep my y-variable \"price\""
   ]
  },
  {
   "cell_type": "code",
   "execution_count": 42,
   "id": "9fc0d982-1ee9-453b-9407-b4e9033d7b1f",
   "metadata": {},
   "outputs": [
    {
     "data": {
      "text/plain": [
       "0    219000.0\n",
       "1    429000.0\n",
       "2    185000.0\n",
       "Name: price, dtype: float64"
      ]
     },
     "execution_count": 42,
     "metadata": {},
     "output_type": "execute_result"
    }
   ],
   "source": [
    "y = df14.price\n",
    "y.head(3)"
   ]
  },
  {
   "cell_type": "markdown",
   "id": "71b6f097-8de8-48f6-823a-ef46a67fb982",
   "metadata": {},
   "source": [
    "In the following code, we first split our data into training and testing sets. We use the train_test_split function from Scikit-learn to randomly split the dataset into two subsets: one for training the model and the other for testing it. \"test_size=0.2\" means that 20% of the data will be used for testing, while the remaining 80% is used for training."
   ]
  },
  {
   "cell_type": "code",
   "execution_count": 43,
   "id": "70e750f3-f4ad-467a-a900-66fbc74246bb",
   "metadata": {},
   "outputs": [],
   "source": [
    "X_train, X_test, y_train, y_test = train_test_split(X,y,test_size=0.2,random_state=42)"
   ]
  },
  {
   "cell_type": "markdown",
   "id": "0a641547-d49a-4394-8bf3-8ea0c09de493",
   "metadata": {},
   "source": [
    "Next, we create and train a Linear Regression model:"
   ]
  },
  {
   "cell_type": "code",
   "execution_count": 44,
   "id": "48e6863b-6269-4242-adde-6fbe302a2884",
   "metadata": {},
   "outputs": [],
   "source": [
    "lr_clf = LinearRegression()\n",
    "lr_clf.fit(X_train,y_train);"
   ]
  },
  {
   "cell_type": "markdown",
   "id": "1ce17fc7-8e44-45d7-bfcc-407ec4076726",
   "metadata": {},
   "source": [
    "Finally, we evaluate the model's performance on the testing set:"
   ]
  },
  {
   "cell_type": "code",
   "execution_count": 45,
   "id": "51d1a03a-1d90-4209-890e-998211d69a07",
   "metadata": {},
   "outputs": [
    {
     "data": {
      "text/plain": [
       "0.871018898854625"
      ]
     },
     "execution_count": 45,
     "metadata": {},
     "output_type": "execute_result"
    }
   ],
   "source": [
    "lr_clf.score(X_test,y_test)"
   ]
  },
  {
   "cell_type": "markdown",
   "id": "77f7e6a9-c24d-442e-bce2-8c64c2eb1458",
   "metadata": {},
   "source": [
    "The \"score(X_test, y_test)\" method calculates the R² score (coefficient of determination), which measures how well the model explains the variance in the test data. In this case, the model's R² score is 0.85.\n",
    "An R² score of 0.85 means that 85% of the variance in the target variable can be explained by the model, which indicates a relatively good fit."
   ]
  },
  {
   "cell_type": "markdown",
   "id": "d953d0cb-ca51-41e7-9f3a-f245634dfce3",
   "metadata": {},
   "source": [
    "### 7.2. Use of K Fold cross validation to measure accuracy of our LinearRegression model"
   ]
  },
  {
   "cell_type": "markdown",
   "id": "60005aa9-e4ca-4b82-83d1-6bda2a0ec900",
   "metadata": {},
   "source": [
    "To evaluate the performance and robustness of our Linear Regression model, we employ K-Fold cross-validation. Cross-validation helps in assessing the model's ability to generalize to unseen data by splitting the dataset into multiple training and testing sets, providing a more reliable estimate of model performance compared to a simple train-test split.\n",
    "\n",
    "In this case, we use ShuffleSplit with 5 splits, which means the data is randomly divided into 5 different training and testing sets. Each set is used as the test set once, while the other 80% serves as the training set. This technique ensures that the model is tested on different subsets of the data, reducing the likelihood of overfitting.\n",
    "\n",
    "The cross_val_score function returns the R² score for each fold, providing an estimate of how well the model performs across different subsets of the data."
   ]
  },
  {
   "cell_type": "code",
   "execution_count": 46,
   "id": "76a87079-edc5-4c63-825a-fa35eda90c69",
   "metadata": {},
   "outputs": [
    {
     "data": {
      "text/plain": [
       "array([0.8710189 , 0.84460643, 0.87984798, 0.85020395, 0.83829939])"
      ]
     },
     "execution_count": 46,
     "metadata": {},
     "output_type": "execute_result"
    }
   ],
   "source": [
    "cv = ShuffleSplit(n_splits=5, test_size=0.2, random_state=42)\n",
    "\n",
    "cross_val_score(LinearRegression(), X, y, cv=cv)"
   ]
  },
  {
   "cell_type": "markdown",
   "id": "09a3907b-748b-46a5-8a85-be24c02fcecc",
   "metadata": {},
   "source": [
    "We can see that the model's performance is consistent, with scores ranging between 0.84 and 0.85, indicating that the model is good."
   ]
  },
  {
   "cell_type": "markdown",
   "id": "613b1197-13ee-4798-9df3-7b24a19e39a8",
   "metadata": {},
   "source": [
    "### 7.3. Testing the model for few properties"
   ]
  },
  {
   "cell_type": "markdown",
   "id": "1d9b9a85-9ae3-45c8-a2cd-fa6eb152266e",
   "metadata": {},
   "source": [
    "In the final chapter of this project, we test the prediction model by inserting values of our choice for the following features:\n",
    "\n",
    "- Neighborhood\n",
    "- Number of rooms\n",
    "- Apartment size\n",
    "- Number of bathrooms\n",
    "  \n",
    "To do this, I created a function called predict_price. This function encapsulates the linear regression model, allowing the function to return the estimated price based on the input values for these features:"
   ]
  },
  {
   "cell_type": "code",
   "execution_count": 47,
   "id": "e6a1d3c0-86c9-4568-8414-004cf4df625f",
   "metadata": {},
   "outputs": [],
   "source": [
    "def predict_price(neighborhood, m2, bathrooms, rooms):\n",
    "    # Create an array of zeros with the length of all the features\n",
    "    x = np.zeros(X.shape[1])\n",
    "    \n",
    "    # Fill in the values for the numeric features\n",
    "    x[X.columns.get_loc('m2')] = m2\n",
    "    x[X.columns.get_loc('bathrooms')] = bathrooms\n",
    "    x[X.columns.get_loc('rooms')] = rooms\n",
    "    \n",
    "    # Find neighborhood column index and set to 1\n",
    "    if neighborhood in X.columns:\n",
    "        loc_index = X.columns.get_loc(neighborhood)\n",
    "        x[loc_index] = 1\n",
    "    else:\n",
    "        raise ValueError(f\"The neighborhood '{neighborhood}' does not exist in the DataFrame columns.\")\n",
    "\n",
    "    \n",
    "    #Convert x to DataFrame with column names\n",
    "    x_df = pd.DataFrame([x], columns=X.columns)\n",
    "\n",
    "    return round(lr_clf.predict(x_df)[0], 2)"
   ]
  },
  {
   "cell_type": "markdown",
   "id": "27370b56-5857-48ea-88b3-55a13b50657b",
   "metadata": {},
   "source": [
    "Now let's use the function by inserting values of our choice. Here is a list of the neighborhoods of Milano:"
   ]
  },
  {
   "cell_type": "code",
   "execution_count": 48,
   "id": "2b7edf6b-fb99-4a9e-92c1-c15ada44d3bd",
   "metadata": {},
   "outputs": [
    {
     "data": {
      "text/plain": [
       "array(['affori', 'arena', 'argonne - corsica', 'baggio', 'bande nere',\n",
       "       'bovisa', 'buenos aires', 'cadore', 'carrobbio',\n",
       "       'cascina dei pomi', 'cascina merlata - musocco', 'cenisio',\n",
       "       'centrale', 'certosa', 'cimiano', 'città studi', 'corso genova',\n",
       "       'corso san gottardo', 'corvetto', 'crescenzago', 'dergano',\n",
       "       'duomo', 'farini', 'gallaratese', 'gambara',\n",
       "       'ghisolfa - mac mahon', 'giambellino', 'gorla', 'greco - segnano',\n",
       "       'indipendenza', 'isola', 'lodi - brenta', 'lorenteggio',\n",
       "       'maggiolina', 'martini - insubria', 'monte rosa - lotto',\n",
       "       'morgagni', 'moscova', 'navigli - darsena', 'niguarda', 'other',\n",
       "       'pagano', 'paolo sarpi', 'pasteur', 'pezzotti - meda',\n",
       "       'piave - tricolore', 'piazzale siena', 'plebisciti - susa',\n",
       "       'ponte nuovo', \"porta romana - medaglie d'oro\", 'porta venezia',\n",
       "       'porta vittoria', 'precotto', 'primaticcio',\n",
       "       'quadronno - crocetta', 'quartiere adriano', 'ripamonti',\n",
       "       'san siro', 'san vittore', 'sempione', 'solari', 'ticinese',\n",
       "       'tre castelli - faenza', 'turati', 'vercelli - wagner',\n",
       "       'viale ungheria - mecenate', 'vigentino - fatima',\n",
       "       'vincenzo monti', 'washington'], dtype=object)"
      ]
     },
     "execution_count": 48,
     "metadata": {},
     "output_type": "execute_result"
    }
   ],
   "source": [
    "df13.neighborhood.unique()"
   ]
  },
  {
   "cell_type": "markdown",
   "id": "f2b0b6aa-2abd-46a5-af35-08617e542698",
   "metadata": {},
   "source": [
    "Let's extract the estimated price for a 4-rooms apartment equipped with two bathrooms in a not central area, e.g. \"Quartiere Adriano\":"
   ]
  },
  {
   "cell_type": "code",
   "execution_count": 49,
   "id": "300d2211-fd24-4555-8801-8c2c327e839b",
   "metadata": {},
   "outputs": [
    {
     "data": {
      "text/plain": [
       "549497.12"
      ]
     },
     "execution_count": 49,
     "metadata": {},
     "output_type": "execute_result"
    }
   ],
   "source": [
    "predict_price('quartiere adriano', 140, 4, 3)"
   ]
  },
  {
   "cell_type": "markdown",
   "id": "7a8bfdbd-0221-446f-9dbc-3c4617c58d8f",
   "metadata": {},
   "source": [
    "Now let's find out the price for a property with identical features but in a very central area, e.g. \"Moscova\":"
   ]
  },
  {
   "cell_type": "code",
   "execution_count": 50,
   "id": "35496d9e-4526-4bea-ae06-3e86c4a15880",
   "metadata": {},
   "outputs": [
    {
     "data": {
      "text/plain": [
       "1436640.25"
      ]
     },
     "execution_count": 50,
     "metadata": {},
     "output_type": "execute_result"
    }
   ],
   "source": [
    "predict_price('moscova', 140, 4, 3)"
   ]
  },
  {
   "cell_type": "markdown",
   "id": "0a4c4c05-e4fc-47a1-bb81-23c1fda21f72",
   "metadata": {},
   "source": [
    "## 8. Conclusion"
   ]
  },
  {
   "cell_type": "markdown",
   "id": "47ac83b8-e046-436c-8959-406d83d78d71",
   "metadata": {},
   "source": [
    "This project began with a typical data science scenario in the real estate industry: a real estate agency aiming to implement a housing price prediction model to gain a competitive edge in its day-to-day operations.\n",
    "\n",
    "Through this project, we highlighted the crucial importance of the data cleaning process. Without proper data cleaning, the model would produce inaccurate results. Specifically, techniques like feature engineering and outlier removal are essential steps in ensuring clean data, alongside standard practices such as dropping irrelevant columns and dealing with NaN values.\n",
    "\n",
    "The linear regression model proved to be an effective prediction tool for this case study, as the relationship between housing prices and their features is often linear. This was further confirmed by the high R² score achieved during model evaluation."
   ]
  }
 ],
 "metadata": {
  "kernelspec": {
   "display_name": "Python 3 (ipykernel)",
   "language": "python",
   "name": "python3"
  },
  "language_info": {
   "codemirror_mode": {
    "name": "ipython",
    "version": 3
   },
   "file_extension": ".py",
   "mimetype": "text/x-python",
   "name": "python",
   "nbconvert_exporter": "python",
   "pygments_lexer": "ipython3",
   "version": "3.9.20"
  }
 },
 "nbformat": 4,
 "nbformat_minor": 5
}
